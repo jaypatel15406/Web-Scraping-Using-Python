{
 "metadata": {
  "language_info": {
   "codemirror_mode": {
    "name": "ipython",
    "version": 3
   },
   "file_extension": ".py",
   "mimetype": "text/x-python",
   "name": "python",
   "nbconvert_exporter": "python",
   "pygments_lexer": "ipython3",
   "version": "3.7.4-final"
  },
  "orig_nbformat": 2,
  "kernelspec": {
   "name": "python3",
   "display_name": "Python 3.7.4 32-bit",
   "metadata": {
    "interpreter": {
     "hash": "3516c099f2e50fbe6b83d8aca3e7ba54c35d25f18189c7f24f96f469bdbc3fe7"
    }
   }
  }
 },
 "nbformat": 4,
 "nbformat_minor": 2,
 "cells": [
  {
   "source": [
    "<b>Aim:- Our task is to fetch Invention List and Inventor Information from Tutorialspoint and Store it in Tabular Format as well as in CSV Format Using Python.</b>\n",
    "\n",
    "> <b>NOTE:-</b> This Module is dedicated for the Learning Purpose Only. <br/>\n",
    "\n",
    "All the Necessary libraries used in this Module has been stated below:-\n",
    "\n",
    "```\n",
    "Library Requirments:-\n",
    "1. pandas (to install type:- 'pip install pandas')\n",
    "```\n",
    "\n",
    "<b>Information and Usage of Library:-</b>\n",
    "\n",
    "<b>1. pandas:- </b>\n",
    "\"pandas\" is a Python package that provides fast, flexible, and expressive data structures designed to make working with structured (tabular, multidimensional, potentially heterogeneous) and time series data both easy and intuitive. It aims to be the fundamental high-level building block for doing practical, \"real world data analysis in Python\". Additionally, it has the broader goal of becoming \"the most powerful and flexible open source data analysis / manipulation tool available in any language\". It is already well on its way toward this goal. \n",
    "\n",
    "pandas is well suited for many different kinds of data. The <b>two primary data structures of pandas</b> stated below:-\n",
    "\n",
    "<b>a. Series (1-Dimensional)</b>\n",
    "\n",
    "<b>b. DataFrame (2-Dimensional)</b>\n",
    "\n",
    "<br/>\n",
    "\n",
    "<b>2. pandas.io.html:- </b>\n",
    "\"pandas.io.html\" is a sub part of module \"pandas.io\" and this is already available in \"pandas\". \"pandas.io\" is a set of Pandas I/O API. For the top level of `reader` functions accessed like `pandas.read_csv()` that generally returns pandas object. The Corresponding `writer` functions are object methods that are accessed like `DataFrame.to_csv()`.\n",
    "\n",
    "But in our Case we have Used `pandas.io.html` module. Which Provide us \"Text Format Type\" from the `reader` function `read.html` and leads to `writer` function `to_html`. In simple words we can Conclude that \"pandas.io.html\" Module has been used for Read HTML tables into a `list` of `DataFrame` Objects.\n"
   ],
   "cell_type": "markdown",
   "metadata": {}
  },
  {
   "cell_type": "code",
   "execution_count": 1,
   "metadata": {},
   "outputs": [],
   "source": [
    "# Importing all the Important Libraries\n",
    "import pandas as pd\n",
    "from pandas.io.html import read_html"
   ]
  },
  {
   "source": [
    "<h2>Fetch Table Content from URL in Tabular Format</h2>"
   ],
   "cell_type": "markdown",
   "metadata": {}
  },
  {
   "cell_type": "code",
   "execution_count": 2,
   "metadata": {},
   "outputs": [
    {
     "output_type": "stream",
     "name": "stdout",
     "text": [
      "\nExtracted 1 Tutorialspoint Tables \n\n"
     ]
    }
   ],
   "source": [
    "# Extract Website Content and Store it into Website URL Variable\n",
    "website_url = 'https://www.tutorialspoint.com/physics_part2/inventions_and_inventors_in_physics.htm'\n",
    "\n",
    "# Read HTML Data and Fetch Tabular Data\n",
    "tutorials_point_table = read_html(website_url,  attrs = {\"class\":\"table table-bordered\"}, header = None)\n",
    "\n",
    "# Print Number of Tables Extracted\n",
    "print (\"\\nExtracted {num} Tutorialspoint Tables\".format(num = len(tutorials_point_table)), \"\\n\")"
   ]
  },
  {
   "cell_type": "code",
   "execution_count": 3,
   "metadata": {},
   "outputs": [
    {
     "output_type": "execute_result",
     "data": {
      "text/plain": [
       "                    Invention  \\\n",
       "0            Centigrade scale   \n",
       "1                       Watch   \n",
       "2                       Radio   \n",
       "3                   Telephone   \n",
       "4                 Electricity   \n",
       "5         Electric Light Bulb   \n",
       "6                 Thermometer   \n",
       "7                   Telescope   \n",
       "8                   Telegraph   \n",
       "9                 Cosmic Rays   \n",
       "10                 Automobile   \n",
       "11              Magnetic Tape   \n",
       "12                Transformer   \n",
       "13  Electromagnetic Induction   \n",
       "14          Quantum mechanics   \n",
       "15             Wave mechanics   \n",
       "16            Nuclear Reactor   \n",
       "17                  Fuel Cell   \n",
       "18                   Airplane   \n",
       "19                  Barometer   \n",
       "20                     Camera   \n",
       "21              Diesel Engine   \n",
       "22                 Helicopter   \n",
       "23                   Dynamite   \n",
       "24                       Lift   \n",
       "25              Laser Printer   \n",
       "26               Mobile Phone   \n",
       "27             Printing Press   \n",
       "28                Video Games   \n",
       "29               Steam engine   \n",
       "30             Railway Engine   \n",
       "31                 Jet Engine   \n",
       "32                Seismograph   \n",
       "33         Electric Generator   \n",
       "34                 Television   \n",
       "35               Refrigerator   \n",
       "36                 Carburetor   \n",
       "37                  Air Brake   \n",
       "38                Atomic bomb   \n",
       "39            Air conditioner   \n",
       "40                Machine Gun   \n",
       "41                      Radar   \n",
       "42                  Submarine   \n",
       "43   First military submarine   \n",
       "44                 Transistor   \n",
       "45               Galvanometer   \n",
       "46                      Laser   \n",
       "47                  Neon lamp   \n",
       "48              Rocket Engine   \n",
       "49                 Typewriter   \n",
       "\n",
       "                                             Inventor  \n",
       "0                                      Anders Celsius  \n",
       "1                                       Peter Henlein  \n",
       "2                                   Guglielmo Marconi  \n",
       "3                               Alexander Graham Bell  \n",
       "4                                   Benjamin Franklin  \n",
       "5                                       Thomas Edison  \n",
       "6                                     Galileo Galilei  \n",
       "7   Hans Lippershey and Zacharias Janssen; later G...  \n",
       "8                                        Samuel Morse  \n",
       "9   Victor Hess (but the term ‘cosmic rays’ first ...  \n",
       "10                                          Karl Benz  \n",
       "11                                     Fritz Pfleumer  \n",
       "12         Michael Faraday (later Ottó Titusz Bláthy)  \n",
       "13                                    Michael Faraday  \n",
       "14    Werner Heisenberg, Max Born, and Pascual Jordan  \n",
       "15                                  Erwin Schrödinger  \n",
       "16                                       Enrico Fermi  \n",
       "17                                      William Grove  \n",
       "18                                    Wright Brothers  \n",
       "19                             Evangelista Torricelli  \n",
       "20                                   Nicéphore Niépce  \n",
       "21                                      Rudolf Diesel  \n",
       "22                                      Igor Sikorsky  \n",
       "23                                       Alfred Nobel  \n",
       "24                                        Elisha Otis  \n",
       "25                                  Gary Starkweather  \n",
       "26                                      Martin Cooper  \n",
       "27                                 Johannes Gutenberg  \n",
       "28                                         Ralph Baer  \n",
       "29                                    Thomas Newcomen  \n",
       "30                                  George Stephenson  \n",
       "31                                      Frank Whittle  \n",
       "32                                         John Milne  \n",
       "33                                    Michael Faraday  \n",
       "34                                   John Logie Baird  \n",
       "35                William Cullen (later Oliver Evans)  \n",
       "36             Luigi De Cristoforis & Enrico Bernardi  \n",
       "37                                George Westinghouse  \n",
       "38            Robert Oppenheimer, Edward Teller et al  \n",
       "39                                     Willis Carrier  \n",
       "40                                    Sir Hiram Maxim  \n",
       "41                   Sir Robert Alexander Watson-Watt  \n",
       "42           Cornelius Drebbel (later) David Bushnell  \n",
       "43                                      Yefim Nikonov  \n",
       "44  John Bardeen, Walter Brattain, and William Sho...  \n",
       "45                                  Johann Schweigger  \n",
       "46            Theodore H. Maiman (first demonstrated)  \n",
       "47                                     Georges Claude  \n",
       "48                                     Robert Goddard  \n",
       "49                          Christopher Latham Sholes  "
      ],
      "text/html": "<div>\n<style scoped>\n    .dataframe tbody tr th:only-of-type {\n        vertical-align: middle;\n    }\n\n    .dataframe tbody tr th {\n        vertical-align: top;\n    }\n\n    .dataframe thead th {\n        text-align: right;\n    }\n</style>\n<table border=\"1\" class=\"dataframe\">\n  <thead>\n    <tr style=\"text-align: right;\">\n      <th></th>\n      <th>Invention</th>\n      <th>Inventor</th>\n    </tr>\n  </thead>\n  <tbody>\n    <tr>\n      <th>0</th>\n      <td>Centigrade scale</td>\n      <td>Anders Celsius</td>\n    </tr>\n    <tr>\n      <th>1</th>\n      <td>Watch</td>\n      <td>Peter Henlein</td>\n    </tr>\n    <tr>\n      <th>2</th>\n      <td>Radio</td>\n      <td>Guglielmo Marconi</td>\n    </tr>\n    <tr>\n      <th>3</th>\n      <td>Telephone</td>\n      <td>Alexander Graham Bell</td>\n    </tr>\n    <tr>\n      <th>4</th>\n      <td>Electricity</td>\n      <td>Benjamin Franklin</td>\n    </tr>\n    <tr>\n      <th>5</th>\n      <td>Electric Light Bulb</td>\n      <td>Thomas Edison</td>\n    </tr>\n    <tr>\n      <th>6</th>\n      <td>Thermometer</td>\n      <td>Galileo Galilei</td>\n    </tr>\n    <tr>\n      <th>7</th>\n      <td>Telescope</td>\n      <td>Hans Lippershey and Zacharias Janssen; later G...</td>\n    </tr>\n    <tr>\n      <th>8</th>\n      <td>Telegraph</td>\n      <td>Samuel Morse</td>\n    </tr>\n    <tr>\n      <th>9</th>\n      <td>Cosmic Rays</td>\n      <td>Victor Hess (but the term ‘cosmic rays’ first ...</td>\n    </tr>\n    <tr>\n      <th>10</th>\n      <td>Automobile</td>\n      <td>Karl Benz</td>\n    </tr>\n    <tr>\n      <th>11</th>\n      <td>Magnetic Tape</td>\n      <td>Fritz Pfleumer</td>\n    </tr>\n    <tr>\n      <th>12</th>\n      <td>Transformer</td>\n      <td>Michael Faraday (later Ottó Titusz Bláthy)</td>\n    </tr>\n    <tr>\n      <th>13</th>\n      <td>Electromagnetic Induction</td>\n      <td>Michael Faraday</td>\n    </tr>\n    <tr>\n      <th>14</th>\n      <td>Quantum mechanics</td>\n      <td>Werner Heisenberg, Max Born, and Pascual Jordan</td>\n    </tr>\n    <tr>\n      <th>15</th>\n      <td>Wave mechanics</td>\n      <td>Erwin Schrödinger</td>\n    </tr>\n    <tr>\n      <th>16</th>\n      <td>Nuclear Reactor</td>\n      <td>Enrico Fermi</td>\n    </tr>\n    <tr>\n      <th>17</th>\n      <td>Fuel Cell</td>\n      <td>William Grove</td>\n    </tr>\n    <tr>\n      <th>18</th>\n      <td>Airplane</td>\n      <td>Wright Brothers</td>\n    </tr>\n    <tr>\n      <th>19</th>\n      <td>Barometer</td>\n      <td>Evangelista Torricelli</td>\n    </tr>\n    <tr>\n      <th>20</th>\n      <td>Camera</td>\n      <td>Nicéphore Niépce</td>\n    </tr>\n    <tr>\n      <th>21</th>\n      <td>Diesel Engine</td>\n      <td>Rudolf Diesel</td>\n    </tr>\n    <tr>\n      <th>22</th>\n      <td>Helicopter</td>\n      <td>Igor Sikorsky</td>\n    </tr>\n    <tr>\n      <th>23</th>\n      <td>Dynamite</td>\n      <td>Alfred Nobel</td>\n    </tr>\n    <tr>\n      <th>24</th>\n      <td>Lift</td>\n      <td>Elisha Otis</td>\n    </tr>\n    <tr>\n      <th>25</th>\n      <td>Laser Printer</td>\n      <td>Gary Starkweather</td>\n    </tr>\n    <tr>\n      <th>26</th>\n      <td>Mobile Phone</td>\n      <td>Martin Cooper</td>\n    </tr>\n    <tr>\n      <th>27</th>\n      <td>Printing Press</td>\n      <td>Johannes Gutenberg</td>\n    </tr>\n    <tr>\n      <th>28</th>\n      <td>Video Games</td>\n      <td>Ralph Baer</td>\n    </tr>\n    <tr>\n      <th>29</th>\n      <td>Steam engine</td>\n      <td>Thomas Newcomen</td>\n    </tr>\n    <tr>\n      <th>30</th>\n      <td>Railway Engine</td>\n      <td>George Stephenson</td>\n    </tr>\n    <tr>\n      <th>31</th>\n      <td>Jet Engine</td>\n      <td>Frank Whittle</td>\n    </tr>\n    <tr>\n      <th>32</th>\n      <td>Seismograph</td>\n      <td>John Milne</td>\n    </tr>\n    <tr>\n      <th>33</th>\n      <td>Electric Generator</td>\n      <td>Michael Faraday</td>\n    </tr>\n    <tr>\n      <th>34</th>\n      <td>Television</td>\n      <td>John Logie Baird</td>\n    </tr>\n    <tr>\n      <th>35</th>\n      <td>Refrigerator</td>\n      <td>William Cullen (later Oliver Evans)</td>\n    </tr>\n    <tr>\n      <th>36</th>\n      <td>Carburetor</td>\n      <td>Luigi De Cristoforis &amp; Enrico Bernardi</td>\n    </tr>\n    <tr>\n      <th>37</th>\n      <td>Air Brake</td>\n      <td>George Westinghouse</td>\n    </tr>\n    <tr>\n      <th>38</th>\n      <td>Atomic bomb</td>\n      <td>Robert Oppenheimer, Edward Teller et al</td>\n    </tr>\n    <tr>\n      <th>39</th>\n      <td>Air conditioner</td>\n      <td>Willis Carrier</td>\n    </tr>\n    <tr>\n      <th>40</th>\n      <td>Machine Gun</td>\n      <td>Sir Hiram Maxim</td>\n    </tr>\n    <tr>\n      <th>41</th>\n      <td>Radar</td>\n      <td>Sir Robert Alexander Watson-Watt</td>\n    </tr>\n    <tr>\n      <th>42</th>\n      <td>Submarine</td>\n      <td>Cornelius Drebbel (later) David Bushnell</td>\n    </tr>\n    <tr>\n      <th>43</th>\n      <td>First military submarine</td>\n      <td>Yefim Nikonov</td>\n    </tr>\n    <tr>\n      <th>44</th>\n      <td>Transistor</td>\n      <td>John Bardeen, Walter Brattain, and William Sho...</td>\n    </tr>\n    <tr>\n      <th>45</th>\n      <td>Galvanometer</td>\n      <td>Johann Schweigger</td>\n    </tr>\n    <tr>\n      <th>46</th>\n      <td>Laser</td>\n      <td>Theodore H. Maiman (first demonstrated)</td>\n    </tr>\n    <tr>\n      <th>47</th>\n      <td>Neon lamp</td>\n      <td>Georges Claude</td>\n    </tr>\n    <tr>\n      <th>48</th>\n      <td>Rocket Engine</td>\n      <td>Robert Goddard</td>\n    </tr>\n    <tr>\n      <th>49</th>\n      <td>Typewriter</td>\n      <td>Christopher Latham Sholes</td>\n    </tr>\n  </tbody>\n</table>\n</div>"
     },
     "metadata": {},
     "execution_count": 3
    }
   ],
   "source": [
    "# Print Fetched Data in Tabular Format\n",
    "tutorials_point_table[0]"
   ]
  },
  {
   "source": [
    "<h2>Store Fetched Table in CSV Format and Use basic operation on it...</h2>"
   ],
   "cell_type": "markdown",
   "metadata": {}
  },
  {
   "cell_type": "code",
   "execution_count": 4,
   "metadata": {},
   "outputs": [],
   "source": [
    "# HTML Table to CSV Format Conversion\n",
    "file_name = 'tutorialspoint_data_table.csv'\n",
    "tutorials_point_table[0].to_csv(file_name, sep = ',')"
   ]
  },
  {
   "cell_type": "code",
   "execution_count": 5,
   "metadata": {},
   "outputs": [],
   "source": [
    "# Read CSV Data From Data Table for Further Analysis\n",
    "data = pd.read_csv(\"E:/GitHub Repositories/Data Warehouse and Mining/Web Scraping Using Python/Tutorialspoint/tutorialspoint_data_table.csv\")"
   ]
  },
  {
   "cell_type": "code",
   "execution_count": 6,
   "metadata": {},
   "outputs": [
    {
     "output_type": "execute_result",
     "data": {
      "text/plain": [
       "    Unnamed: 0                  Invention  \\\n",
       "0            0           Centigrade scale   \n",
       "1            1                      Watch   \n",
       "2            2                      Radio   \n",
       "3            3                  Telephone   \n",
       "4            4                Electricity   \n",
       "5            5        Electric Light Bulb   \n",
       "6            6                Thermometer   \n",
       "7            7                  Telescope   \n",
       "8            8                  Telegraph   \n",
       "9            9                Cosmic Rays   \n",
       "10          10                 Automobile   \n",
       "11          11              Magnetic Tape   \n",
       "12          12                Transformer   \n",
       "13          13  Electromagnetic Induction   \n",
       "14          14          Quantum mechanics   \n",
       "\n",
       "                                             Inventor  \n",
       "0                                      Anders Celsius  \n",
       "1                                       Peter Henlein  \n",
       "2                                   Guglielmo Marconi  \n",
       "3                               Alexander Graham Bell  \n",
       "4                                   Benjamin Franklin  \n",
       "5                                       Thomas Edison  \n",
       "6                                     Galileo Galilei  \n",
       "7   Hans Lippershey and Zacharias Janssen; later G...  \n",
       "8                                        Samuel Morse  \n",
       "9   Victor Hess (but the term ‘cosmic rays’ first ...  \n",
       "10                                          Karl Benz  \n",
       "11                                     Fritz Pfleumer  \n",
       "12         Michael Faraday (later Ottó Titusz Bláthy)  \n",
       "13                                    Michael Faraday  \n",
       "14    Werner Heisenberg, Max Born, and Pascual Jordan  "
      ],
      "text/html": "<div>\n<style scoped>\n    .dataframe tbody tr th:only-of-type {\n        vertical-align: middle;\n    }\n\n    .dataframe tbody tr th {\n        vertical-align: top;\n    }\n\n    .dataframe thead th {\n        text-align: right;\n    }\n</style>\n<table border=\"1\" class=\"dataframe\">\n  <thead>\n    <tr style=\"text-align: right;\">\n      <th></th>\n      <th>Unnamed: 0</th>\n      <th>Invention</th>\n      <th>Inventor</th>\n    </tr>\n  </thead>\n  <tbody>\n    <tr>\n      <th>0</th>\n      <td>0</td>\n      <td>Centigrade scale</td>\n      <td>Anders Celsius</td>\n    </tr>\n    <tr>\n      <th>1</th>\n      <td>1</td>\n      <td>Watch</td>\n      <td>Peter Henlein</td>\n    </tr>\n    <tr>\n      <th>2</th>\n      <td>2</td>\n      <td>Radio</td>\n      <td>Guglielmo Marconi</td>\n    </tr>\n    <tr>\n      <th>3</th>\n      <td>3</td>\n      <td>Telephone</td>\n      <td>Alexander Graham Bell</td>\n    </tr>\n    <tr>\n      <th>4</th>\n      <td>4</td>\n      <td>Electricity</td>\n      <td>Benjamin Franklin</td>\n    </tr>\n    <tr>\n      <th>5</th>\n      <td>5</td>\n      <td>Electric Light Bulb</td>\n      <td>Thomas Edison</td>\n    </tr>\n    <tr>\n      <th>6</th>\n      <td>6</td>\n      <td>Thermometer</td>\n      <td>Galileo Galilei</td>\n    </tr>\n    <tr>\n      <th>7</th>\n      <td>7</td>\n      <td>Telescope</td>\n      <td>Hans Lippershey and Zacharias Janssen; later G...</td>\n    </tr>\n    <tr>\n      <th>8</th>\n      <td>8</td>\n      <td>Telegraph</td>\n      <td>Samuel Morse</td>\n    </tr>\n    <tr>\n      <th>9</th>\n      <td>9</td>\n      <td>Cosmic Rays</td>\n      <td>Victor Hess (but the term ‘cosmic rays’ first ...</td>\n    </tr>\n    <tr>\n      <th>10</th>\n      <td>10</td>\n      <td>Automobile</td>\n      <td>Karl Benz</td>\n    </tr>\n    <tr>\n      <th>11</th>\n      <td>11</td>\n      <td>Magnetic Tape</td>\n      <td>Fritz Pfleumer</td>\n    </tr>\n    <tr>\n      <th>12</th>\n      <td>12</td>\n      <td>Transformer</td>\n      <td>Michael Faraday (later Ottó Titusz Bláthy)</td>\n    </tr>\n    <tr>\n      <th>13</th>\n      <td>13</td>\n      <td>Electromagnetic Induction</td>\n      <td>Michael Faraday</td>\n    </tr>\n    <tr>\n      <th>14</th>\n      <td>14</td>\n      <td>Quantum mechanics</td>\n      <td>Werner Heisenberg, Max Born, and Pascual Jordan</td>\n    </tr>\n  </tbody>\n</table>\n</div>"
     },
     "metadata": {},
     "execution_count": 6
    }
   ],
   "source": [
    "# Fetch Few Data from the Dataset\n",
    "data.head(15)"
   ]
  },
  {
   "cell_type": "code",
   "execution_count": 7,
   "metadata": {},
   "outputs": [
    {
     "output_type": "execute_result",
     "data": {
      "text/plain": [
       "                    Invention  \\\n",
       "0            Centigrade scale   \n",
       "1                       Watch   \n",
       "2                       Radio   \n",
       "3                   Telephone   \n",
       "4                 Electricity   \n",
       "5         Electric Light Bulb   \n",
       "6                 Thermometer   \n",
       "7                   Telescope   \n",
       "8                   Telegraph   \n",
       "9                 Cosmic Rays   \n",
       "10                 Automobile   \n",
       "11              Magnetic Tape   \n",
       "12                Transformer   \n",
       "13  Electromagnetic Induction   \n",
       "14          Quantum mechanics   \n",
       "\n",
       "                                             Inventor  \n",
       "0                                      Anders Celsius  \n",
       "1                                       Peter Henlein  \n",
       "2                                   Guglielmo Marconi  \n",
       "3                               Alexander Graham Bell  \n",
       "4                                   Benjamin Franklin  \n",
       "5                                       Thomas Edison  \n",
       "6                                     Galileo Galilei  \n",
       "7   Hans Lippershey and Zacharias Janssen; later G...  \n",
       "8                                        Samuel Morse  \n",
       "9   Victor Hess (but the term ‘cosmic rays’ first ...  \n",
       "10                                          Karl Benz  \n",
       "11                                     Fritz Pfleumer  \n",
       "12         Michael Faraday (later Ottó Titusz Bláthy)  \n",
       "13                                    Michael Faraday  \n",
       "14    Werner Heisenberg, Max Born, and Pascual Jordan  "
      ],
      "text/html": "<div>\n<style scoped>\n    .dataframe tbody tr th:only-of-type {\n        vertical-align: middle;\n    }\n\n    .dataframe tbody tr th {\n        vertical-align: top;\n    }\n\n    .dataframe thead th {\n        text-align: right;\n    }\n</style>\n<table border=\"1\" class=\"dataframe\">\n  <thead>\n    <tr style=\"text-align: right;\">\n      <th></th>\n      <th>Invention</th>\n      <th>Inventor</th>\n    </tr>\n  </thead>\n  <tbody>\n    <tr>\n      <th>0</th>\n      <td>Centigrade scale</td>\n      <td>Anders Celsius</td>\n    </tr>\n    <tr>\n      <th>1</th>\n      <td>Watch</td>\n      <td>Peter Henlein</td>\n    </tr>\n    <tr>\n      <th>2</th>\n      <td>Radio</td>\n      <td>Guglielmo Marconi</td>\n    </tr>\n    <tr>\n      <th>3</th>\n      <td>Telephone</td>\n      <td>Alexander Graham Bell</td>\n    </tr>\n    <tr>\n      <th>4</th>\n      <td>Electricity</td>\n      <td>Benjamin Franklin</td>\n    </tr>\n    <tr>\n      <th>5</th>\n      <td>Electric Light Bulb</td>\n      <td>Thomas Edison</td>\n    </tr>\n    <tr>\n      <th>6</th>\n      <td>Thermometer</td>\n      <td>Galileo Galilei</td>\n    </tr>\n    <tr>\n      <th>7</th>\n      <td>Telescope</td>\n      <td>Hans Lippershey and Zacharias Janssen; later G...</td>\n    </tr>\n    <tr>\n      <th>8</th>\n      <td>Telegraph</td>\n      <td>Samuel Morse</td>\n    </tr>\n    <tr>\n      <th>9</th>\n      <td>Cosmic Rays</td>\n      <td>Victor Hess (but the term ‘cosmic rays’ first ...</td>\n    </tr>\n    <tr>\n      <th>10</th>\n      <td>Automobile</td>\n      <td>Karl Benz</td>\n    </tr>\n    <tr>\n      <th>11</th>\n      <td>Magnetic Tape</td>\n      <td>Fritz Pfleumer</td>\n    </tr>\n    <tr>\n      <th>12</th>\n      <td>Transformer</td>\n      <td>Michael Faraday (later Ottó Titusz Bláthy)</td>\n    </tr>\n    <tr>\n      <th>13</th>\n      <td>Electromagnetic Induction</td>\n      <td>Michael Faraday</td>\n    </tr>\n    <tr>\n      <th>14</th>\n      <td>Quantum mechanics</td>\n      <td>Werner Heisenberg, Max Born, and Pascual Jordan</td>\n    </tr>\n  </tbody>\n</table>\n</div>"
     },
     "metadata": {},
     "execution_count": 7
    }
   ],
   "source": [
    "# Remove Unnamed Column From the Data Set and Print Few Data\n",
    "data = data.drop(\"Unnamed: 0\", axis = 1)\n",
    "data.head(15)"
   ]
  },
  {
   "cell_type": "code",
   "execution_count": 8,
   "metadata": {},
   "outputs": [
    {
     "output_type": "execute_result",
     "data": {
      "text/plain": [
       "Invention    50\n",
       "Inventor     50\n",
       "dtype: int64"
      ]
     },
     "metadata": {},
     "execution_count": 8
    }
   ],
   "source": [
    "# Print Data Count\n",
    "data.count()"
   ]
  },
  {
   "cell_type": "code",
   "execution_count": 9,
   "metadata": {},
   "outputs": [
    {
     "output_type": "stream",
     "name": "stdout",
     "text": [
      "<class 'pandas.core.frame.DataFrame'>\nRangeIndex: 50 entries, 0 to 49\nData columns (total 2 columns):\nInvention    50 non-null object\nInventor     50 non-null object\ndtypes: object(2)\nmemory usage: 464.0+ bytes\n"
     ]
    }
   ],
   "source": [
    "# Print Data Information\n",
    "data.info()"
   ]
  },
  {
   "cell_type": "code",
   "execution_count": 10,
   "metadata": {},
   "outputs": [
    {
     "output_type": "execute_result",
     "data": {
      "text/plain": [
       "         Invention         Inventor\n",
       "count           50               50\n",
       "unique          50               49\n",
       "top     Typewriter  Michael Faraday\n",
       "freq             1                2"
      ],
      "text/html": "<div>\n<style scoped>\n    .dataframe tbody tr th:only-of-type {\n        vertical-align: middle;\n    }\n\n    .dataframe tbody tr th {\n        vertical-align: top;\n    }\n\n    .dataframe thead th {\n        text-align: right;\n    }\n</style>\n<table border=\"1\" class=\"dataframe\">\n  <thead>\n    <tr style=\"text-align: right;\">\n      <th></th>\n      <th>Invention</th>\n      <th>Inventor</th>\n    </tr>\n  </thead>\n  <tbody>\n    <tr>\n      <th>count</th>\n      <td>50</td>\n      <td>50</td>\n    </tr>\n    <tr>\n      <th>unique</th>\n      <td>50</td>\n      <td>49</td>\n    </tr>\n    <tr>\n      <th>top</th>\n      <td>Typewriter</td>\n      <td>Michael Faraday</td>\n    </tr>\n    <tr>\n      <th>freq</th>\n      <td>1</td>\n      <td>2</td>\n    </tr>\n  </tbody>\n</table>\n</div>"
     },
     "metadata": {},
     "execution_count": 10
    }
   ],
   "source": [
    "# Describe Data Set\n",
    "data.describe()"
   ]
  }
 ]
}