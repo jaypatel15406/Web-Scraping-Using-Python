{
 "cells": [
  {
   "source": [
    "<b>Aim:- Our task is to fetch Quotes and it's Author List from Static HTML Page Using Python.</b>\n",
    "\n",
    "> <b>NOTE:-</b> This Module is dedicated for the Learning Purpose Only. <br/>\n",
    "\n",
    "All the Necessary libraries used in this Module has been stated below:-\n",
    "\n",
    "```\n",
    "Library Requirments:-\n",
    "1. urllib (to install type:- 'pip install urllib')\n",
    "2. bs4 (to install type:- 'pip install bs4')\n",
    "```\n",
    "\n",
    "<b>Information and Usage of Library:-</b>\n",
    "\n",
    "<b>1. urllib:- </b>\n",
    "\"urllib\" also known as \"URL Library\" it was basically used for working with urls. Such as \"Requesting and Opening URL\" by ```urllib.request``` and for much more similar operations for url. <br/>\n",
    "\n",
    "<b>2. bs4:- </b>\n",
    "\"bs4\" also known as \"BeautifulSoup4\" it was basically used for scraping Information from the particular web page easily. It also sits atop an HTML or XML parser, providing Pythonic idioms for iterating, searching, and modifying the parse tree. <br/>\n"
   ],
   "cell_type": "markdown",
   "metadata": {}
  },
  {
   "cell_type": "code",
   "execution_count": 1,
   "metadata": {},
   "outputs": [],
   "source": [
    "# Importing all the Important Libraries\n",
    "from urllib.request import urlopen\n",
    "from bs4 import BeautifulSoup"
   ]
  },
  {
   "source": [
    "<h2>Fetch HTML Data From the URL Using BeautifulSoup</h2>"
   ],
   "cell_type": "markdown",
   "metadata": {}
  },
  {
   "cell_type": "code",
   "execution_count": 2,
   "metadata": {},
   "outputs": [],
   "source": [
    "# Store URL into Web Page Variable, For e.g.:- I have Taken Amazon Shopping for Data Scrapping !!!\n",
    "web_page = \"https://bluelimelearning.github.io/my-fav-quotes/\""
   ]
  },
  {
   "cell_type": "code",
   "execution_count": 3,
   "metadata": {},
   "outputs": [],
   "source": [
    "# Now Request Web Page and fetch HTML Data inside it for Scrapping Procedure\n",
    "fetch_url = urlopen(web_page)\n",
    "page_html = fetch_url.read()"
   ]
  },
  {
   "cell_type": "code",
   "execution_count": 4,
   "metadata": {},
   "outputs": [],
   "source": [
    "# Parse HTML ans CSS Content to Soup Variable\n",
    "soup = BeautifulSoup(page_html,\"html.parser\")"
   ]
  },
  {
   "source": [
    "<h3>Print HTML Content in Pretiffy Format</h3>"
   ],
   "cell_type": "markdown",
   "metadata": {}
  },
  {
   "cell_type": "code",
   "execution_count": 5,
   "metadata": {},
   "outputs": [
    {
     "output_type": "stream",
     "name": "stdout",
     "text": [
      "<!DOCTYPE html>\n<html>\n <head>\n  <meta charset=\"utf-8\"/>\n  <title>\n   My Favorite Quotes\n  </title>\n  <link href=\"style.css\" rel=\"stylesheet\"/>\n </head>\n <body>\n  <h1>\n   Words of Wisdom\n  </h1>\n  <div id=\"wrapper\">\n   <div class=\"quotes\">\n    <p class=\"aquote\">\n     I hear and i forget.\n     <br/>\n     I see and i remember.\n     <br/>\n     I do and i understand.\n    </p>\n    <p class=\"author\">\n     Confucious\n    </p>\n   </div>\n   <div class=\"quotes\">\n    <p class=\"aquote\">\n     Feeling gratitude and not\n     <br/>\n     expressing it is like wrapping\n     <br/>\n     a present and not giving it.\n    </p>\n    <p class=\"author\">\n     William Arthur Ward\n    </p>\n   </div>\n   <div class=\"quotes\">\n    <p class=\"aquote\">\n     Our greatest glory is not in never falling\n     <br/>\n     but in rising every time we fall.\n    </p>\n    <p class=\"author\">\n     Confucious\n    </p>\n   </div>\n   <div class=\"quotes\">\n    <p class=\"aquote\">\n     The secret of getting ahead\n     <br/>\n     is getting started.\n    </p>\n    <p class=\"author\">\n     Mark Twain\n    </p>\n   </div>\n   <div class=\"quotes\">\n    <p class=\"aquote\">\n     Believe you can\n     <br/>\n     and you're halfway there.\n    </p>\n    <p class=\"author\">\n     Theodore Roosevelt\n    </p>\n   </div>\n   <div class=\"quotes\">\n    <p class=\"aquote\">\n     Resentment is like drinking Poison and\n     <br/>\n     waiting for your enemies to die.\n    </p>\n    <p class=\"author\">\n     Nelson Mandela\n    </p>\n   </div>\n   <div class=\"quotes\">\n    <p class=\"aquote\">\n     Silence is a true friend\n     <br/>\n     who never betrays.\n    </p>\n    <p class=\"author\">\n     Confucius\n    </p>\n   </div>\n   <div class=\"quotes\">\n    <p class=\"aquote\">\n     The best way to find yourself is to\n     <br/>\n     lose yourself in the service of others.\n    </p>\n    <p class=\"author\">\n     Mahatma Gandhi\n    </p>\n   </div>\n   <div class=\"quotes\">\n    <p class=\"aquote\">\n     Never succumb to the\n     <br/>\n     temptation of bitterness.\n    </p>\n    <p class=\"author\">\n     Martin Luther King Jnr\n    </p>\n   </div>\n   <div class=\"quotes\">\n    <p class=\"aquote\">\n     The journey of a thousand miles\n     <br/>\n     begins with one step.\n    </p>\n    <p class=\"author\">\n     Lao Tzu\n    </p>\n   </div>\n   <div class=\"quotes\">\n    <p class=\"aquote\">\n     It is health that is real wealth and\n     <br/>\n     not pieces of gold and silver.\n    </p>\n    <p class=\"author\">\n     Mahatma Gandhi\n    </p>\n   </div>\n   <div class=\"quotes\">\n    <p class=\"aquote\">\n     Yesterday is not ours to recover\n     <br/>\n     but tomorrow is ours to win or lose.\n    </p>\n    <p class=\"author\">\n     Lyndon B Johnson\n    </p>\n   </div>\n   <div class=\"quotes\">\n    <p class=\"aquote\">\n     It's not what happens to you\n     <br/>\n     but how you react to it that matters .\n    </p>\n    <p class=\"author\">\n     Epictetus\n    </p>\n   </div>\n   <div class=\"quotes\">\n    <p class=\"aquote\">\n     Beware of what you become\n     <br/>\n     in pursuit of what you want.\n    </p>\n    <p class=\"author\">\n     Jim Rohn\n    </p>\n   </div>\n   <div class=\"quotes\">\n    <p class=\"aquote\">\n     The best revenge\n     <br/>\n     is massive success.\n    </p>\n    <p class=\"author\">\n     Frank Sinatra\n    </p>\n   </div>\n   <div class=\"quotes\">\n    <p class=\"aquote\">\n     Do not take life too seriously\n     <br/>\n     You will never get out of it alive.\n    </p>\n    <p class=\"author\">\n     Elbert Hubbard\n    </p>\n   </div>\n   <div class=\"quotes\">\n    <p class=\"aquote\">\n     Don't judge each day by the harvest you reap\n     <br/>\n     but by the seeds that yiu plant.\n    </p>\n    <p class=\"author\">\n     Robert Loius Stevenson\n    </p>\n   </div>\n   <div class=\"quotes\">\n    <p class=\"aquote\">\n     Your attitude and not your aptitude\n     <br/>\n     will determine your altitude\n    </p>\n    <p class=\"author\">\n     Zig Ziglar\n    </p>\n   </div>\n   <div class=\"quotes\">\n    <p class=\"aquote\">\n     Imagination is more important\n     <br/>\n     than knowledge.\n    </p>\n    <p class=\"author\">\n     Albert Einstein\n    </p>\n   </div>\n  </div>\n </body>\n</html>\n"
     ]
    }
   ],
   "source": [
    "# Print Code Using Prettify Format\n",
    "print(soup.prettify())"
   ]
  },
  {
   "source": [
    "<h3>Find Quotes and Authors using findAll() function and Strip Down all the Data Using strip() Function !</h3>"
   ],
   "cell_type": "markdown",
   "metadata": {}
  },
  {
   "cell_type": "code",
   "execution_count": 6,
   "metadata": {},
   "outputs": [],
   "source": [
    "# Fetch Author Name From It's Tag and Class Defined in HTML Code\n",
    "author = soup.findAll(\"p\",{'class':\"author\"})"
   ]
  },
  {
   "cell_type": "code",
   "execution_count": 7,
   "metadata": {},
   "outputs": [
    {
     "output_type": "execute_result",
     "data": {
      "text/plain": [
       "'Confucious'"
      ]
     },
     "metadata": {},
     "execution_count": 7
    }
   ],
   "source": [
    "# Fetch First Author From the Author List\n",
    "author[0].text.strip()"
   ]
  },
  {
   "cell_type": "code",
   "execution_count": 8,
   "metadata": {},
   "outputs": [
    {
     "output_type": "stream",
     "name": "stdout",
     "text": [
      "There are  19  Quotes in the List !!!\n"
     ]
    }
   ],
   "source": [
    "# Fetch Quotes From List and also Define There are How many Quotes in the List\n",
    "quotes = soup.findAll(\"p\",{'class':\"aquote\"})\n",
    "print(\"There are \", len(quotes), \" Quotes in the List !!!\")"
   ]
  },
  {
   "cell_type": "code",
   "execution_count": 9,
   "metadata": {},
   "outputs": [
    {
     "output_type": "stream",
     "name": "stdout",
     "text": [
      "Author List:-\n1 ) Confucious\n2 ) William Arthur Ward\n3 ) Confucious\n4 ) Mark Twain\n5 ) Theodore Roosevelt\n6 ) Nelson Mandela\n7 ) Confucius\n8 ) Mahatma Gandhi\n9 ) Martin Luther King Jnr\n10 ) Lao Tzu\n11 ) Mahatma Gandhi\n12 ) Lyndon B Johnson\n13 ) Epictetus\n14 ) Jim Rohn\n15 ) Frank Sinatra\n16 ) Elbert Hubbard\n17 ) Robert Loius Stevenson\n18 ) Zig Ziglar\n19 ) Albert Einstein\n"
     ]
    }
   ],
   "source": [
    "# Fetch Whole Author List \n",
    "print(\"Author List:-\")\n",
    "for i in range(0,len(quotes)):\n",
    "    print((i+1), \")\", author[i].text.strip())"
   ]
  },
  {
   "cell_type": "code",
   "execution_count": 10,
   "metadata": {},
   "outputs": [
    {
     "output_type": "execute_result",
     "data": {
      "text/plain": [
       "'I hear and i forget. I see and i remember. I do and i understand.'"
      ]
     },
     "metadata": {},
     "execution_count": 10
    }
   ],
   "source": [
    "# Fetch First Quote From the Quote List\n",
    "quotes[0].text.strip()"
   ]
  },
  {
   "cell_type": "code",
   "execution_count": 11,
   "metadata": {},
   "outputs": [
    {
     "output_type": "stream",
     "name": "stdout",
     "text": [
      "Quote List with it's Author:-\n\n1 ) Quote:-  I hear and i forget. I see and i remember. I do and i understand. \n==> Author:-  Confucious \n\n2 ) Quote:-  Feeling gratitude and not expressing it is like wrapping a present and not giving it. \n==> Author:-  William Arthur Ward \n\n3 ) Quote:-  Our greatest glory is not in never falling but in rising every time we fall. \n==> Author:-  Confucious \n\n4 ) Quote:-  The secret of getting aheadis getting started. \n==> Author:-  Mark Twain \n\n5 ) Quote:-  Believe you can   and you're halfway there. \n==> Author:-  Theodore Roosevelt \n\n6 ) Quote:-  Resentment is like drinking Poison and  waiting for your enemies to die. \n==> Author:-  Nelson Mandela \n\n7 ) Quote:-  Silence is a true friend   who never betrays. \n==> Author:-  Confucius \n\n8 ) Quote:-  The best way to find yourself is to   lose yourself in the service of others. \n==> Author:-  Mahatma Gandhi \n\n9 ) Quote:-  Never succumb to the temptation of bitterness. \n==> Author:-  Martin Luther King Jnr \n\n10 ) Quote:-  The journey of a thousand miles  begins with one step. \n==> Author:-  Lao Tzu \n\n11 ) Quote:-  It is health that is real wealth and  not pieces of gold and silver. \n==> Author:-  Mahatma Gandhi \n\n12 ) Quote:-  Yesterday is not ours to recover  but tomorrow is ours to win or lose. \n==> Author:-  Lyndon B Johnson \n\n13 ) Quote:-  It's not what happens to you  but how you react to it that matters . \n==> Author:-  Epictetus \n\n14 ) Quote:-  Beware of what you become  in pursuit of what you want. \n==> Author:-  Jim Rohn \n\n15 ) Quote:-  The best revenge  is massive success. \n==> Author:-  Frank Sinatra \n\n16 ) Quote:-  Do not take life too seriously You will never get out of it alive. \n==> Author:-  Elbert Hubbard \n\n17 ) Quote:-  Don't judge each day by the harvest you reap  but by the seeds that yiu plant. \n==> Author:-  Robert Loius Stevenson \n\n18 ) Quote:-  Your attitude and not your aptitude  will determine your altitude \n==> Author:-  Zig Ziglar \n\n19 ) Quote:-  Imagination is more important  than knowledge. \n==> Author:-  Albert Einstein \n\n"
     ]
    }
   ],
   "source": [
    "# Fetch Whole Quote List with it's Author Name\n",
    "print(\"Quote List with it's Author:-\\n\")\n",
    "for i in range(0,len(quotes)):\n",
    "    print((i+1),\") Quote:- \", quotes[i].text.strip(), \"\\n==> Author:- \",author[i].text.strip(), \"\\n\")"
   ]
  }
 ],
 "metadata": {
  "kernelspec": {
   "name": "python3",
   "display_name": "Python 3.7.4 32-bit",
   "metadata": {
    "interpreter": {
     "hash": "3516c099f2e50fbe6b83d8aca3e7ba54c35d25f18189c7f24f96f469bdbc3fe7"
    }
   }
  },
  "language_info": {
   "codemirror_mode": {
    "name": "ipython",
    "version": 3
   },
   "file_extension": ".py",
   "mimetype": "text/x-python",
   "name": "python",
   "nbconvert_exporter": "python",
   "pygments_lexer": "ipython3",
   "version": "3.7.4-final"
  }
 },
 "nbformat": 4,
 "nbformat_minor": 4
}