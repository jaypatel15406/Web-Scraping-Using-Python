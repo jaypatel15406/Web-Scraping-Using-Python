{
 "metadata": {
  "language_info": {
   "codemirror_mode": {
    "name": "ipython",
    "version": 3
   },
   "file_extension": ".py",
   "mimetype": "text/x-python",
   "name": "python",
   "nbconvert_exporter": "python",
   "pygments_lexer": "ipython3",
   "version": "3.7.4-final"
  },
  "orig_nbformat": 2,
  "kernelspec": {
   "name": "python3",
   "display_name": "Python 3.7.4 32-bit",
   "metadata": {
    "interpreter": {
     "hash": "3516c099f2e50fbe6b83d8aca3e7ba54c35d25f18189c7f24f96f469bdbc3fe7"
    }
   }
  }
 },
 "nbformat": 4,
 "nbformat_minor": 2,
 "cells": [
  {
   "source": [
    "<b>Aim:- Our task is to fetch List of Nobel laureates in Literature from Wikipedia and Store it in Tabular Format as well as in CSV Format Using Python.</b>\n",
    "\n",
    "> <b>NOTE:-</b> This Module is dedicated for the Learning Purpose Only. <br/>\n",
    "\n",
    "All the Necessary libraries used in this Module has been stated below:-\n",
    "\n",
    "```\n",
    "Library Requirments:-\n",
    "1. pandas (to install type:- 'pip install pandas')\n",
    "```\n",
    "\n",
    "<b>Information and Usage of Library:-</b>\n",
    "\n",
    "<b>1. pandas:- </b>\n",
    "\"pandas\" is a Python package that provides fast, flexible, and expressive data structures designed to make working with structured (tabular, multidimensional, potentially heterogeneous) and time series data both easy and intuitive. It aims to be the fundamental high-level building block for doing practical, \"real world data analysis in Python\". Additionally, it has the broader goal of becoming \"the most powerful and flexible open source data analysis / manipulation tool available in any language\". It is already well on its way toward this goal. \n",
    "\n",
    "pandas is well suited for many different kinds of data. The <b>two primary data structures of pandas</b> stated below:-\n",
    "\n",
    "<b>a. Series (1-Dimensional)</b>\n",
    "\n",
    "<b>b. DataFrame (2-Dimensional)</b>\n",
    "\n",
    "<br/>\n",
    "\n",
    "<b>2. pandas.io.html:- </b>\n",
    "\"pandas.io.html\" is a sub part of module \"pandas.io\" and this is already available in \"pandas\". \"pandas.io\" is a set of Pandas I/O API. For the top level of `reader` functions accessed like `pandas.read_csv()` that generally returns pandas object. The Corresponding `writer` functions are object methods that are accessed like `DataFrame.to_csv()`.\n",
    "\n",
    "But in our Case we have Used `pandas.io.html` module. Which Provide us \"Text Format Type\" from the `reader` function `read.html` and leads to `writer` function `to_html`. In simple words we can Conclude that \"pandas.io.html\" Module has been used for Read HTML tables into a `list` of `DataFrame` Objects.\n"
   ],
   "cell_type": "markdown",
   "metadata": {}
  },
  {
   "cell_type": "code",
   "execution_count": 1,
   "metadata": {},
   "outputs": [],
   "source": [
    "# Importing all the Important Libraries\n",
    "import pandas as pd\n",
    "from pandas.io.html import read_html"
   ]
  },
  {
   "source": [
    "<h2>Fetch Table Content from URL in Tabular Format</h2>"
   ],
   "cell_type": "markdown",
   "metadata": {}
  },
  {
   "cell_type": "code",
   "execution_count": 2,
   "metadata": {},
   "outputs": [
    {
     "output_type": "stream",
     "name": "stdout",
     "text": [
      "\nExtracted 4 WikiTables \n\n"
     ]
    }
   ],
   "source": [
    "# Extract Website Content and Store it into Website URL Variable\n",
    "website_url = 'https://en.wikipedia.org/wiki/List_of_Nobel_laureates_in_Literature'\n",
    "\n",
    "# Read HTML Data and Fetch Tabular Data\n",
    "wiki_tables = read_html(website_url,  attrs = {\"class\":\"wikitable sortable\"}, header = None)\n",
    "\n",
    "# Print Number of Tables Extracted\n",
    "print (\"\\nExtracted {num} WikiTables\".format(num = len(wiki_tables)), \"\\n\")"
   ]
  },
  {
   "cell_type": "code",
   "execution_count": 3,
   "metadata": {},
   "outputs": [
    {
     "output_type": "execute_result",
     "data": {
      "text/plain": [
       "   Year                               Laureate                  Country  \\\n",
       "0  1901          Sully Prudhomme (1839 – 1907)                   France   \n",
       "1  1902          Theodor Mommsen (1817 – 1903)                  Germany   \n",
       "2  1903    Bjørnstjerne Bjørnson (1832 – 1910)                   Norway   \n",
       "3  1904         Frédéric Mistral (1830 – 1914)                   France   \n",
       "4  1904           José Echegaray (1830 – 1914)                    Spain   \n",
       "5  1905       Henryk Sienkiewicz (1846 – 1916)  Poland( Russian Empire)   \n",
       "6  1906          Giosuè Carducci (1835 – 1907)                    Italy   \n",
       "7  1907          Rudyard Kipling (1865 – 1936)           United Kingdom   \n",
       "8  1908  Rudolf Christoph Eucken (1846 – 1926)                  Germany   \n",
       "9  1909           Selma Lagerlöf (1858 – 1940)                   Sweden   \n",
       "\n",
       "  Language(s)                                           Citation  \\\n",
       "0      French  \"in special recognition of his poetic composit...   \n",
       "1      German  \"the greatest living master of the art of hist...   \n",
       "2   Norwegian  \"as a tribute to his noble, magnificent and ve...   \n",
       "3   Provençal  \"in recognition of the fresh originality and t...   \n",
       "4     Spanish  \"in recognition of the numerous and brilliant ...   \n",
       "5      Polish  \"because of his outstanding merits as an epic ...   \n",
       "6     Italian  \"not only in consideration of his deep learnin...   \n",
       "7     English  \"in consideration of the power of observation,...   \n",
       "8      German  \"in recognition of his earnest search for trut...   \n",
       "9     Swedish  \"in appreciation of the lofty idealism, vivid ...   \n",
       "\n",
       "                     Genre(s)  \n",
       "0               poetry, essay  \n",
       "1                history, law  \n",
       "2        poetry, novel, drama  \n",
       "3           poetry, philology  \n",
       "4                       drama  \n",
       "5                       novel  \n",
       "6                      poetry  \n",
       "7  novel, short story, poetry  \n",
       "8                  philosophy  \n",
       "9          novel, short story  "
      ],
      "text/html": "<div>\n<style scoped>\n    .dataframe tbody tr th:only-of-type {\n        vertical-align: middle;\n    }\n\n    .dataframe tbody tr th {\n        vertical-align: top;\n    }\n\n    .dataframe thead th {\n        text-align: right;\n    }\n</style>\n<table border=\"1\" class=\"dataframe\">\n  <thead>\n    <tr style=\"text-align: right;\">\n      <th></th>\n      <th>Year</th>\n      <th>Laureate</th>\n      <th>Country</th>\n      <th>Language(s)</th>\n      <th>Citation</th>\n      <th>Genre(s)</th>\n    </tr>\n  </thead>\n  <tbody>\n    <tr>\n      <th>0</th>\n      <td>1901</td>\n      <td>Sully Prudhomme (1839 – 1907)</td>\n      <td>France</td>\n      <td>French</td>\n      <td>\"in special recognition of his poetic composit...</td>\n      <td>poetry, essay</td>\n    </tr>\n    <tr>\n      <th>1</th>\n      <td>1902</td>\n      <td>Theodor Mommsen (1817 – 1903)</td>\n      <td>Germany</td>\n      <td>German</td>\n      <td>\"the greatest living master of the art of hist...</td>\n      <td>history, law</td>\n    </tr>\n    <tr>\n      <th>2</th>\n      <td>1903</td>\n      <td>Bjørnstjerne Bjørnson (1832 – 1910)</td>\n      <td>Norway</td>\n      <td>Norwegian</td>\n      <td>\"as a tribute to his noble, magnificent and ve...</td>\n      <td>poetry, novel, drama</td>\n    </tr>\n    <tr>\n      <th>3</th>\n      <td>1904</td>\n      <td>Frédéric Mistral (1830 – 1914)</td>\n      <td>France</td>\n      <td>Provençal</td>\n      <td>\"in recognition of the fresh originality and t...</td>\n      <td>poetry, philology</td>\n    </tr>\n    <tr>\n      <th>4</th>\n      <td>1904</td>\n      <td>José Echegaray (1830 – 1914)</td>\n      <td>Spain</td>\n      <td>Spanish</td>\n      <td>\"in recognition of the numerous and brilliant ...</td>\n      <td>drama</td>\n    </tr>\n    <tr>\n      <th>5</th>\n      <td>1905</td>\n      <td>Henryk Sienkiewicz (1846 – 1916)</td>\n      <td>Poland( Russian Empire)</td>\n      <td>Polish</td>\n      <td>\"because of his outstanding merits as an epic ...</td>\n      <td>novel</td>\n    </tr>\n    <tr>\n      <th>6</th>\n      <td>1906</td>\n      <td>Giosuè Carducci (1835 – 1907)</td>\n      <td>Italy</td>\n      <td>Italian</td>\n      <td>\"not only in consideration of his deep learnin...</td>\n      <td>poetry</td>\n    </tr>\n    <tr>\n      <th>7</th>\n      <td>1907</td>\n      <td>Rudyard Kipling (1865 – 1936)</td>\n      <td>United Kingdom</td>\n      <td>English</td>\n      <td>\"in consideration of the power of observation,...</td>\n      <td>novel, short story, poetry</td>\n    </tr>\n    <tr>\n      <th>8</th>\n      <td>1908</td>\n      <td>Rudolf Christoph Eucken (1846 – 1926)</td>\n      <td>Germany</td>\n      <td>German</td>\n      <td>\"in recognition of his earnest search for trut...</td>\n      <td>philosophy</td>\n    </tr>\n    <tr>\n      <th>9</th>\n      <td>1909</td>\n      <td>Selma Lagerlöf (1858 – 1940)</td>\n      <td>Sweden</td>\n      <td>Swedish</td>\n      <td>\"in appreciation of the lofty idealism, vivid ...</td>\n      <td>novel, short story</td>\n    </tr>\n  </tbody>\n</table>\n</div>"
     },
     "metadata": {},
     "execution_count": 3
    }
   ],
   "source": [
    "# Remove Unnecessary Data From Table 1 (in our case Remove 'Picture': 'NaN') and Fetch All Noble Prize Winner Information \n",
    "wiki_tables[0].drop(\"Picture\", axis = 1).head(10)"
   ]
  },
  {
   "cell_type": "code",
   "execution_count": 4,
   "metadata": {},
   "outputs": [
    {
     "output_type": "execute_result",
     "data": {
      "text/plain": [
       "          Country  Number\n",
       "0          France      17\n",
       "1   United States      13\n",
       "2  United Kingdom      11\n",
       "3         Germany      10\n",
       "4          Sweden       8\n",
       "5          Poland       6\n",
       "6           Spain       6\n",
       "7           Italy       6\n",
       "8         Ireland       4\n",
       "9     Russia/USSR       4"
      ],
      "text/html": "<div>\n<style scoped>\n    .dataframe tbody tr th:only-of-type {\n        vertical-align: middle;\n    }\n\n    .dataframe tbody tr th {\n        vertical-align: top;\n    }\n\n    .dataframe thead th {\n        text-align: right;\n    }\n</style>\n<table border=\"1\" class=\"dataframe\">\n  <thead>\n    <tr style=\"text-align: right;\">\n      <th></th>\n      <th>Country</th>\n      <th>Number</th>\n    </tr>\n  </thead>\n  <tbody>\n    <tr>\n      <th>0</th>\n      <td>France</td>\n      <td>17</td>\n    </tr>\n    <tr>\n      <th>1</th>\n      <td>United States</td>\n      <td>13</td>\n    </tr>\n    <tr>\n      <th>2</th>\n      <td>United Kingdom</td>\n      <td>11</td>\n    </tr>\n    <tr>\n      <th>3</th>\n      <td>Germany</td>\n      <td>10</td>\n    </tr>\n    <tr>\n      <th>4</th>\n      <td>Sweden</td>\n      <td>8</td>\n    </tr>\n    <tr>\n      <th>5</th>\n      <td>Poland</td>\n      <td>6</td>\n    </tr>\n    <tr>\n      <th>6</th>\n      <td>Spain</td>\n      <td>6</td>\n    </tr>\n    <tr>\n      <th>7</th>\n      <td>Italy</td>\n      <td>6</td>\n    </tr>\n    <tr>\n      <th>8</th>\n      <td>Ireland</td>\n      <td>4</td>\n    </tr>\n    <tr>\n      <th>9</th>\n      <td>Russia/USSR</td>\n      <td>4</td>\n    </tr>\n  </tbody>\n</table>\n</div>"
     },
     "metadata": {},
     "execution_count": 4
    }
   ],
   "source": [
    "# Print Table 2 From List Which Will Fetch Number of Noble Prize Won By Each Country \n",
    "wiki_tables[1].head(10)"
   ]
  },
  {
   "cell_type": "code",
   "execution_count": 5,
   "metadata": {},
   "outputs": [
    {
     "output_type": "execute_result",
     "data": {
      "text/plain": [
       "    Language    Number\n",
       "0    English  29 (32)1\n",
       "1     French        14\n",
       "2     German  14 (15)2\n",
       "3    Spanish        11\n",
       "4    Swedish         7\n",
       "5    Italian         6\n",
       "6    Russian         6\n",
       "7     Polish         5\n",
       "8     Danish         3\n",
       "9  Norwegian         3"
      ],
      "text/html": "<div>\n<style scoped>\n    .dataframe tbody tr th:only-of-type {\n        vertical-align: middle;\n    }\n\n    .dataframe tbody tr th {\n        vertical-align: top;\n    }\n\n    .dataframe thead th {\n        text-align: right;\n    }\n</style>\n<table border=\"1\" class=\"dataframe\">\n  <thead>\n    <tr style=\"text-align: right;\">\n      <th></th>\n      <th>Language</th>\n      <th>Number</th>\n    </tr>\n  </thead>\n  <tbody>\n    <tr>\n      <th>0</th>\n      <td>English</td>\n      <td>29 (32)1</td>\n    </tr>\n    <tr>\n      <th>1</th>\n      <td>French</td>\n      <td>14</td>\n    </tr>\n    <tr>\n      <th>2</th>\n      <td>German</td>\n      <td>14 (15)2</td>\n    </tr>\n    <tr>\n      <th>3</th>\n      <td>Spanish</td>\n      <td>11</td>\n    </tr>\n    <tr>\n      <th>4</th>\n      <td>Swedish</td>\n      <td>7</td>\n    </tr>\n    <tr>\n      <th>5</th>\n      <td>Italian</td>\n      <td>6</td>\n    </tr>\n    <tr>\n      <th>6</th>\n      <td>Russian</td>\n      <td>6</td>\n    </tr>\n    <tr>\n      <th>7</th>\n      <td>Polish</td>\n      <td>5</td>\n    </tr>\n    <tr>\n      <th>8</th>\n      <td>Danish</td>\n      <td>3</td>\n    </tr>\n    <tr>\n      <th>9</th>\n      <td>Norwegian</td>\n      <td>3</td>\n    </tr>\n  </tbody>\n</table>\n</div>"
     },
     "metadata": {},
     "execution_count": 5
    }
   ],
   "source": [
    "# Print Table 3 From List Which Will Fetch Number of Noble Prize Won By Which Language Proefficiency \n",
    "wiki_tables[2].head(10)"
   ]
  },
  {
   "cell_type": "code",
   "execution_count": 6,
   "metadata": {},
   "outputs": [
    {
     "output_type": "execute_result",
     "data": {
      "text/plain": [
       "      Decade  Male  Female\n",
       "0  1900–1909     9       1\n",
       "1  1910–1919     9       0\n",
       "2  1920–1929     8       2\n",
       "3  1930–1939     8       1\n",
       "4  1940–1949     5       1\n",
       "5  1950–1959    10       0\n",
       "6  1960–1969    10       1\n",
       "7  1970–1979    11       0\n",
       "8  1980–1989    10       0\n",
       "9  1990–1999     7       3"
      ],
      "text/html": "<div>\n<style scoped>\n    .dataframe tbody tr th:only-of-type {\n        vertical-align: middle;\n    }\n\n    .dataframe tbody tr th {\n        vertical-align: top;\n    }\n\n    .dataframe thead th {\n        text-align: right;\n    }\n</style>\n<table border=\"1\" class=\"dataframe\">\n  <thead>\n    <tr style=\"text-align: right;\">\n      <th></th>\n      <th>Decade</th>\n      <th>Male</th>\n      <th>Female</th>\n    </tr>\n  </thead>\n  <tbody>\n    <tr>\n      <th>0</th>\n      <td>1900–1909</td>\n      <td>9</td>\n      <td>1</td>\n    </tr>\n    <tr>\n      <th>1</th>\n      <td>1910–1919</td>\n      <td>9</td>\n      <td>0</td>\n    </tr>\n    <tr>\n      <th>2</th>\n      <td>1920–1929</td>\n      <td>8</td>\n      <td>2</td>\n    </tr>\n    <tr>\n      <th>3</th>\n      <td>1930–1939</td>\n      <td>8</td>\n      <td>1</td>\n    </tr>\n    <tr>\n      <th>4</th>\n      <td>1940–1949</td>\n      <td>5</td>\n      <td>1</td>\n    </tr>\n    <tr>\n      <th>5</th>\n      <td>1950–1959</td>\n      <td>10</td>\n      <td>0</td>\n    </tr>\n    <tr>\n      <th>6</th>\n      <td>1960–1969</td>\n      <td>10</td>\n      <td>1</td>\n    </tr>\n    <tr>\n      <th>7</th>\n      <td>1970–1979</td>\n      <td>11</td>\n      <td>0</td>\n    </tr>\n    <tr>\n      <th>8</th>\n      <td>1980–1989</td>\n      <td>10</td>\n      <td>0</td>\n    </tr>\n    <tr>\n      <th>9</th>\n      <td>1990–1999</td>\n      <td>7</td>\n      <td>3</td>\n    </tr>\n  </tbody>\n</table>\n</div>"
     },
     "metadata": {},
     "execution_count": 6
    }
   ],
   "source": [
    "# Print Table 4 From List Which Will Fetch Number of Noble Prize Won By Which Decade and Which Gender\n",
    "wiki_tables[3].head(10)"
   ]
  },
  {
   "source": [
    "<h2>Store Multiple Fetched Tables in CSV Format and Use basic operation on it...</h2>"
   ],
   "cell_type": "markdown",
   "metadata": {}
  },
  {
   "cell_type": "code",
   "execution_count": 7,
   "metadata": {},
   "outputs": [],
   "source": [
    "# HTML Table to CSV Format Conversion For Whole Noble Prize Winner Data\n",
    "wiki_data_file_1 = 'wiki_data_table.csv'\n",
    "wiki_tables[0].to_csv(wiki_data_file_1, sep = ',')"
   ]
  },
  {
   "cell_type": "code",
   "execution_count": 8,
   "metadata": {},
   "outputs": [],
   "source": [
    "# HTML Table to CSV Format Conversion For Whole Noble Prize Won By Each Country\n",
    "wiki_data_file_2 = 'wiki_data_country.csv'\n",
    "wiki_tables[1].to_csv(wiki_data_file_2, sep = ',')"
   ]
  },
  {
   "cell_type": "code",
   "execution_count": 9,
   "metadata": {},
   "outputs": [],
   "source": [
    "# HTML Table to CSV Format Conversion For Whole Noble Prize Won By Language Proefficiency\n",
    "wiki_data_file_3 = 'wiki_data_language.csv'\n",
    "wiki_tables[2].to_csv(wiki_data_file_3, sep = ',')"
   ]
  },
  {
   "cell_type": "code",
   "execution_count": 10,
   "metadata": {},
   "outputs": [],
   "source": [
    "# HTML Table to CSV Format Conversion For Whole Noble Prize Won By Which Decade and Which Gemder\n",
    "wiki_data_file_4 = 'wiki_data_decade_and_gender.csv'\n",
    "wiki_tables[3].to_csv(wiki_data_file_4, sep = ',')"
   ]
  },
  {
   "cell_type": "code",
   "execution_count": 11,
   "metadata": {},
   "outputs": [],
   "source": [
    "# Read CSV Data From Data Table for Further Analysis\n",
    "wiki_data = pd.read_csv(\"E:/GitHub Repositories/Data Warehouse and Mining/Web Scraping Using Python/Wikipedia Table/wiki_data_table.csv\")\n",
    "country_data = pd.read_csv(\"E:/GitHub Repositories/Data Warehouse and Mining/Web Scraping Using Python/Wikipedia Table/wiki_data_country.csv\")\n",
    "language_data = pd.read_csv(\"E:/GitHub Repositories/Data Warehouse and Mining/Web Scraping Using Python/Wikipedia Table/wiki_data_language.csv\")\n",
    "decade_and_gender_data = pd.read_csv(\"E:/GitHub Repositories/Data Warehouse and Mining/Web Scraping Using Python/Wikipedia Table/wiki_data_decade_and_gender.csv\")"
   ]
  },
  {
   "cell_type": "code",
   "execution_count": 12,
   "metadata": {},
   "outputs": [
    {
     "output_type": "execute_result",
     "data": {
      "text/plain": [
       "   Year                               Laureate                  Country  \\\n",
       "0  1901          Sully Prudhomme (1839 – 1907)                   France   \n",
       "1  1902          Theodor Mommsen (1817 – 1903)                  Germany   \n",
       "2  1903    Bjørnstjerne Bjørnson (1832 – 1910)                   Norway   \n",
       "3  1904         Frédéric Mistral (1830 – 1914)                   France   \n",
       "4  1904           José Echegaray (1830 – 1914)                    Spain   \n",
       "5  1905       Henryk Sienkiewicz (1846 – 1916)  Poland( Russian Empire)   \n",
       "6  1906          Giosuè Carducci (1835 – 1907)                    Italy   \n",
       "7  1907          Rudyard Kipling (1865 – 1936)           United Kingdom   \n",
       "8  1908  Rudolf Christoph Eucken (1846 – 1926)                  Germany   \n",
       "9  1909           Selma Lagerlöf (1858 – 1940)                   Sweden   \n",
       "\n",
       "  Language(s)                                           Citation  \\\n",
       "0      French  \"in special recognition of his poetic composit...   \n",
       "1      German  \"the greatest living master of the art of hist...   \n",
       "2   Norwegian  \"as a tribute to his noble, magnificent and ve...   \n",
       "3   Provençal  \"in recognition of the fresh originality and t...   \n",
       "4     Spanish  \"in recognition of the numerous and brilliant ...   \n",
       "5      Polish  \"because of his outstanding merits as an epic ...   \n",
       "6     Italian  \"not only in consideration of his deep learnin...   \n",
       "7     English  \"in consideration of the power of observation,...   \n",
       "8      German  \"in recognition of his earnest search for trut...   \n",
       "9     Swedish  \"in appreciation of the lofty idealism, vivid ...   \n",
       "\n",
       "                     Genre(s)  \n",
       "0               poetry, essay  \n",
       "1                history, law  \n",
       "2        poetry, novel, drama  \n",
       "3           poetry, philology  \n",
       "4                       drama  \n",
       "5                       novel  \n",
       "6                      poetry  \n",
       "7  novel, short story, poetry  \n",
       "8                  philosophy  \n",
       "9          novel, short story  "
      ],
      "text/html": "<div>\n<style scoped>\n    .dataframe tbody tr th:only-of-type {\n        vertical-align: middle;\n    }\n\n    .dataframe tbody tr th {\n        vertical-align: top;\n    }\n\n    .dataframe thead th {\n        text-align: right;\n    }\n</style>\n<table border=\"1\" class=\"dataframe\">\n  <thead>\n    <tr style=\"text-align: right;\">\n      <th></th>\n      <th>Year</th>\n      <th>Laureate</th>\n      <th>Country</th>\n      <th>Language(s)</th>\n      <th>Citation</th>\n      <th>Genre(s)</th>\n    </tr>\n  </thead>\n  <tbody>\n    <tr>\n      <th>0</th>\n      <td>1901</td>\n      <td>Sully Prudhomme (1839 – 1907)</td>\n      <td>France</td>\n      <td>French</td>\n      <td>\"in special recognition of his poetic composit...</td>\n      <td>poetry, essay</td>\n    </tr>\n    <tr>\n      <th>1</th>\n      <td>1902</td>\n      <td>Theodor Mommsen (1817 – 1903)</td>\n      <td>Germany</td>\n      <td>German</td>\n      <td>\"the greatest living master of the art of hist...</td>\n      <td>history, law</td>\n    </tr>\n    <tr>\n      <th>2</th>\n      <td>1903</td>\n      <td>Bjørnstjerne Bjørnson (1832 – 1910)</td>\n      <td>Norway</td>\n      <td>Norwegian</td>\n      <td>\"as a tribute to his noble, magnificent and ve...</td>\n      <td>poetry, novel, drama</td>\n    </tr>\n    <tr>\n      <th>3</th>\n      <td>1904</td>\n      <td>Frédéric Mistral (1830 – 1914)</td>\n      <td>France</td>\n      <td>Provençal</td>\n      <td>\"in recognition of the fresh originality and t...</td>\n      <td>poetry, philology</td>\n    </tr>\n    <tr>\n      <th>4</th>\n      <td>1904</td>\n      <td>José Echegaray (1830 – 1914)</td>\n      <td>Spain</td>\n      <td>Spanish</td>\n      <td>\"in recognition of the numerous and brilliant ...</td>\n      <td>drama</td>\n    </tr>\n    <tr>\n      <th>5</th>\n      <td>1905</td>\n      <td>Henryk Sienkiewicz (1846 – 1916)</td>\n      <td>Poland( Russian Empire)</td>\n      <td>Polish</td>\n      <td>\"because of his outstanding merits as an epic ...</td>\n      <td>novel</td>\n    </tr>\n    <tr>\n      <th>6</th>\n      <td>1906</td>\n      <td>Giosuè Carducci (1835 – 1907)</td>\n      <td>Italy</td>\n      <td>Italian</td>\n      <td>\"not only in consideration of his deep learnin...</td>\n      <td>poetry</td>\n    </tr>\n    <tr>\n      <th>7</th>\n      <td>1907</td>\n      <td>Rudyard Kipling (1865 – 1936)</td>\n      <td>United Kingdom</td>\n      <td>English</td>\n      <td>\"in consideration of the power of observation,...</td>\n      <td>novel, short story, poetry</td>\n    </tr>\n    <tr>\n      <th>8</th>\n      <td>1908</td>\n      <td>Rudolf Christoph Eucken (1846 – 1926)</td>\n      <td>Germany</td>\n      <td>German</td>\n      <td>\"in recognition of his earnest search for trut...</td>\n      <td>philosophy</td>\n    </tr>\n    <tr>\n      <th>9</th>\n      <td>1909</td>\n      <td>Selma Lagerlöf (1858 – 1940)</td>\n      <td>Sweden</td>\n      <td>Swedish</td>\n      <td>\"in appreciation of the lofty idealism, vivid ...</td>\n      <td>novel, short story</td>\n    </tr>\n  </tbody>\n</table>\n</div>"
     },
     "metadata": {},
     "execution_count": 12
    }
   ],
   "source": [
    "# Fetch Clean Data from the Whole Noble Prize Winner Wikipedia Data \n",
    "wiki_data = wiki_data.drop(columns=[\"Unnamed: 0\", \"Picture\"], axis = 1)\n",
    "wiki_data.head(10)"
   ]
  },
  {
   "cell_type": "code",
   "execution_count": 13,
   "metadata": {},
   "outputs": [
    {
     "output_type": "execute_result",
     "data": {
      "text/plain": [
       "Year           124\n",
       "Laureate       124\n",
       "Country        124\n",
       "Language(s)    124\n",
       "Citation       124\n",
       "Genre(s)       124\n",
       "dtype: int64"
      ]
     },
     "metadata": {},
     "execution_count": 13
    }
   ],
   "source": [
    "# Print Data Count of Whole Noble Prize Winner Wikipedia Data\n",
    "wiki_data.count()"
   ]
  },
  {
   "cell_type": "code",
   "execution_count": 14,
   "metadata": {},
   "outputs": [
    {
     "output_type": "stream",
     "name": "stdout",
     "text": [
      "<class 'pandas.core.frame.DataFrame'>\nRangeIndex: 124 entries, 0 to 123\nData columns (total 6 columns):\nYear           124 non-null int64\nLaureate       124 non-null object\nCountry        124 non-null object\nLanguage(s)    124 non-null object\nCitation       124 non-null object\nGenre(s)       124 non-null object\ndtypes: int64(1), object(5)\nmemory usage: 3.5+ KB\n"
     ]
    }
   ],
   "source": [
    "# Print Information of Whole Noble Prize Winner Wikipedia Data\n",
    "wiki_data.info()"
   ]
  },
  {
   "cell_type": "code",
   "execution_count": 15,
   "metadata": {},
   "outputs": [
    {
     "output_type": "execute_result",
     "data": {
      "text/plain": [
       "              Year\n",
       "count   124.000000\n",
       "mean   1959.846774\n",
       "std      34.832245\n",
       "min    1901.000000\n",
       "25%    1929.750000\n",
       "50%    1960.500000\n",
       "75%    1989.250000\n",
       "max    2020.000000"
      ],
      "text/html": "<div>\n<style scoped>\n    .dataframe tbody tr th:only-of-type {\n        vertical-align: middle;\n    }\n\n    .dataframe tbody tr th {\n        vertical-align: top;\n    }\n\n    .dataframe thead th {\n        text-align: right;\n    }\n</style>\n<table border=\"1\" class=\"dataframe\">\n  <thead>\n    <tr style=\"text-align: right;\">\n      <th></th>\n      <th>Year</th>\n    </tr>\n  </thead>\n  <tbody>\n    <tr>\n      <th>count</th>\n      <td>124.000000</td>\n    </tr>\n    <tr>\n      <th>mean</th>\n      <td>1959.846774</td>\n    </tr>\n    <tr>\n      <th>std</th>\n      <td>34.832245</td>\n    </tr>\n    <tr>\n      <th>min</th>\n      <td>1901.000000</td>\n    </tr>\n    <tr>\n      <th>25%</th>\n      <td>1929.750000</td>\n    </tr>\n    <tr>\n      <th>50%</th>\n      <td>1960.500000</td>\n    </tr>\n    <tr>\n      <th>75%</th>\n      <td>1989.250000</td>\n    </tr>\n    <tr>\n      <th>max</th>\n      <td>2020.000000</td>\n    </tr>\n  </tbody>\n</table>\n</div>"
     },
     "metadata": {},
     "execution_count": 15
    }
   ],
   "source": [
    "# Describe Whole Noble Prize Winner Wikipedia Data\n",
    "wiki_data.describe()"
   ]
  },
  {
   "cell_type": "code",
   "execution_count": 16,
   "metadata": {},
   "outputs": [
    {
     "output_type": "execute_result",
     "data": {
      "text/plain": [
       "          Country  Number\n",
       "0          France      17\n",
       "1   United States      13\n",
       "2  United Kingdom      11\n",
       "3         Germany      10\n",
       "4          Sweden       8\n",
       "5          Poland       6\n",
       "6           Spain       6\n",
       "7           Italy       6\n",
       "8         Ireland       4\n",
       "9     Russia/USSR       4"
      ],
      "text/html": "<div>\n<style scoped>\n    .dataframe tbody tr th:only-of-type {\n        vertical-align: middle;\n    }\n\n    .dataframe tbody tr th {\n        vertical-align: top;\n    }\n\n    .dataframe thead th {\n        text-align: right;\n    }\n</style>\n<table border=\"1\" class=\"dataframe\">\n  <thead>\n    <tr style=\"text-align: right;\">\n      <th></th>\n      <th>Country</th>\n      <th>Number</th>\n    </tr>\n  </thead>\n  <tbody>\n    <tr>\n      <th>0</th>\n      <td>France</td>\n      <td>17</td>\n    </tr>\n    <tr>\n      <th>1</th>\n      <td>United States</td>\n      <td>13</td>\n    </tr>\n    <tr>\n      <th>2</th>\n      <td>United Kingdom</td>\n      <td>11</td>\n    </tr>\n    <tr>\n      <th>3</th>\n      <td>Germany</td>\n      <td>10</td>\n    </tr>\n    <tr>\n      <th>4</th>\n      <td>Sweden</td>\n      <td>8</td>\n    </tr>\n    <tr>\n      <th>5</th>\n      <td>Poland</td>\n      <td>6</td>\n    </tr>\n    <tr>\n      <th>6</th>\n      <td>Spain</td>\n      <td>6</td>\n    </tr>\n    <tr>\n      <th>7</th>\n      <td>Italy</td>\n      <td>6</td>\n    </tr>\n    <tr>\n      <th>8</th>\n      <td>Ireland</td>\n      <td>4</td>\n    </tr>\n    <tr>\n      <th>9</th>\n      <td>Russia/USSR</td>\n      <td>4</td>\n    </tr>\n  </tbody>\n</table>\n</div>"
     },
     "metadata": {},
     "execution_count": 16
    }
   ],
   "source": [
    "# Fetch Clean Data from the Country Dataset of Noble Prize Winner on Wikipedia\n",
    "country_data = country_data.drop(columns=\"Unnamed: 0\", axis = 1)\n",
    "country_data.head(10)"
   ]
  },
  {
   "cell_type": "code",
   "execution_count": 17,
   "metadata": {},
   "outputs": [
    {
     "output_type": "execute_result",
     "data": {
      "text/plain": [
       "Country    41\n",
       "Number     41\n",
       "dtype: int64"
      ]
     },
     "metadata": {},
     "execution_count": 17
    }
   ],
   "source": [
    "# Print Data Count of Country Dataset of Noble Prize Winner on Wikipedia\n",
    "country_data.count()"
   ]
  },
  {
   "cell_type": "code",
   "execution_count": 18,
   "metadata": {},
   "outputs": [
    {
     "output_type": "stream",
     "name": "stdout",
     "text": [
      "<class 'pandas.core.frame.DataFrame'>\nRangeIndex: 41 entries, 0 to 40\nData columns (total 2 columns):\nCountry    41 non-null object\nNumber     41 non-null int64\ndtypes: int64(1), object(1)\nmemory usage: 556.0+ bytes\n"
     ]
    }
   ],
   "source": [
    "# Print Information of the Country Dataset of Noble Prize Winner on Wikipedia\n",
    "country_data.info()"
   ]
  },
  {
   "cell_type": "code",
   "execution_count": 19,
   "metadata": {},
   "outputs": [
    {
     "output_type": "execute_result",
     "data": {
      "text/plain": [
       "          Number\n",
       "count  41.000000\n",
       "mean    3.073171\n",
       "std     3.744264\n",
       "min     1.000000\n",
       "25%     1.000000\n",
       "50%     1.000000\n",
       "75%     3.000000\n",
       "max    17.000000"
      ],
      "text/html": "<div>\n<style scoped>\n    .dataframe tbody tr th:only-of-type {\n        vertical-align: middle;\n    }\n\n    .dataframe tbody tr th {\n        vertical-align: top;\n    }\n\n    .dataframe thead th {\n        text-align: right;\n    }\n</style>\n<table border=\"1\" class=\"dataframe\">\n  <thead>\n    <tr style=\"text-align: right;\">\n      <th></th>\n      <th>Number</th>\n    </tr>\n  </thead>\n  <tbody>\n    <tr>\n      <th>count</th>\n      <td>41.000000</td>\n    </tr>\n    <tr>\n      <th>mean</th>\n      <td>3.073171</td>\n    </tr>\n    <tr>\n      <th>std</th>\n      <td>3.744264</td>\n    </tr>\n    <tr>\n      <th>min</th>\n      <td>1.000000</td>\n    </tr>\n    <tr>\n      <th>25%</th>\n      <td>1.000000</td>\n    </tr>\n    <tr>\n      <th>50%</th>\n      <td>1.000000</td>\n    </tr>\n    <tr>\n      <th>75%</th>\n      <td>3.000000</td>\n    </tr>\n    <tr>\n      <th>max</th>\n      <td>17.000000</td>\n    </tr>\n  </tbody>\n</table>\n</div>"
     },
     "metadata": {},
     "execution_count": 19
    }
   ],
   "source": [
    "# Describe the Country Dataset of Noble Prize Winner on Wikipedia\n",
    "country_data.describe()"
   ]
  },
  {
   "cell_type": "code",
   "execution_count": 20,
   "metadata": {},
   "outputs": [
    {
     "output_type": "execute_result",
     "data": {
      "text/plain": [
       "    Language    Number\n",
       "0    English  29 (32)1\n",
       "1     French        14\n",
       "2     German  14 (15)2\n",
       "3    Spanish        11\n",
       "4    Swedish         7\n",
       "5    Italian         6\n",
       "6    Russian         6\n",
       "7     Polish         5\n",
       "8     Danish         3\n",
       "9  Norwegian         3"
      ],
      "text/html": "<div>\n<style scoped>\n    .dataframe tbody tr th:only-of-type {\n        vertical-align: middle;\n    }\n\n    .dataframe tbody tr th {\n        vertical-align: top;\n    }\n\n    .dataframe thead th {\n        text-align: right;\n    }\n</style>\n<table border=\"1\" class=\"dataframe\">\n  <thead>\n    <tr style=\"text-align: right;\">\n      <th></th>\n      <th>Language</th>\n      <th>Number</th>\n    </tr>\n  </thead>\n  <tbody>\n    <tr>\n      <th>0</th>\n      <td>English</td>\n      <td>29 (32)1</td>\n    </tr>\n    <tr>\n      <th>1</th>\n      <td>French</td>\n      <td>14</td>\n    </tr>\n    <tr>\n      <th>2</th>\n      <td>German</td>\n      <td>14 (15)2</td>\n    </tr>\n    <tr>\n      <th>3</th>\n      <td>Spanish</td>\n      <td>11</td>\n    </tr>\n    <tr>\n      <th>4</th>\n      <td>Swedish</td>\n      <td>7</td>\n    </tr>\n    <tr>\n      <th>5</th>\n      <td>Italian</td>\n      <td>6</td>\n    </tr>\n    <tr>\n      <th>6</th>\n      <td>Russian</td>\n      <td>6</td>\n    </tr>\n    <tr>\n      <th>7</th>\n      <td>Polish</td>\n      <td>5</td>\n    </tr>\n    <tr>\n      <th>8</th>\n      <td>Danish</td>\n      <td>3</td>\n    </tr>\n    <tr>\n      <th>9</th>\n      <td>Norwegian</td>\n      <td>3</td>\n    </tr>\n  </tbody>\n</table>\n</div>"
     },
     "metadata": {},
     "execution_count": 20
    }
   ],
   "source": [
    "# Fetch Clean Data from the Language Dataset of Noble Prize Winner on Wikipedia\n",
    "language_data = language_data.drop(columns=\"Unnamed: 0\", axis = 1)\n",
    "language_data.head(10)"
   ]
  },
  {
   "cell_type": "code",
   "execution_count": 21,
   "metadata": {},
   "outputs": [
    {
     "output_type": "execute_result",
     "data": {
      "text/plain": [
       "Language    25\n",
       "Number      25\n",
       "dtype: int64"
      ]
     },
     "metadata": {},
     "execution_count": 21
    }
   ],
   "source": [
    "# Print Data Count of Language Dataset of Noble Prize Winner on Wikipedia\n",
    "language_data.count()"
   ]
  },
  {
   "cell_type": "code",
   "execution_count": 22,
   "metadata": {},
   "outputs": [
    {
     "output_type": "stream",
     "name": "stdout",
     "text": [
      "<class 'pandas.core.frame.DataFrame'>\nRangeIndex: 25 entries, 0 to 24\nData columns (total 2 columns):\nLanguage    25 non-null object\nNumber      25 non-null object\ndtypes: object(2)\nmemory usage: 264.0+ bytes\n"
     ]
    }
   ],
   "source": [
    "# Print Information of the Language Dataset of Noble Prize Winner on Wikipedia\n",
    "language_data.info()"
   ]
  },
  {
   "cell_type": "code",
   "execution_count": 23,
   "metadata": {},
   "outputs": [
    {
     "output_type": "execute_result",
     "data": {
      "text/plain": [
       "       Language Number\n",
       "count        25     25\n",
       "unique       25     10\n",
       "top      Polish      1\n",
       "freq          1     12"
      ],
      "text/html": "<div>\n<style scoped>\n    .dataframe tbody tr th:only-of-type {\n        vertical-align: middle;\n    }\n\n    .dataframe tbody tr th {\n        vertical-align: top;\n    }\n\n    .dataframe thead th {\n        text-align: right;\n    }\n</style>\n<table border=\"1\" class=\"dataframe\">\n  <thead>\n    <tr style=\"text-align: right;\">\n      <th></th>\n      <th>Language</th>\n      <th>Number</th>\n    </tr>\n  </thead>\n  <tbody>\n    <tr>\n      <th>count</th>\n      <td>25</td>\n      <td>25</td>\n    </tr>\n    <tr>\n      <th>unique</th>\n      <td>25</td>\n      <td>10</td>\n    </tr>\n    <tr>\n      <th>top</th>\n      <td>Polish</td>\n      <td>1</td>\n    </tr>\n    <tr>\n      <th>freq</th>\n      <td>1</td>\n      <td>12</td>\n    </tr>\n  </tbody>\n</table>\n</div>"
     },
     "metadata": {},
     "execution_count": 23
    }
   ],
   "source": [
    "# Describe the Language Dataset of Noble Prize Winner on Wikipedia\n",
    "language_data.describe()"
   ]
  },
  {
   "cell_type": "code",
   "execution_count": 24,
   "metadata": {},
   "outputs": [
    {
     "output_type": "execute_result",
     "data": {
      "text/plain": [
       "      Decade  Male  Female\n",
       "0  1900–1909     9       1\n",
       "1  1910–1919     9       0\n",
       "2  1920–1929     8       2\n",
       "3  1930–1939     8       1\n",
       "4  1940–1949     5       1\n",
       "5  1950–1959    10       0\n",
       "6  1960–1969    10       1\n",
       "7  1970–1979    11       0\n",
       "8  1980–1989    10       0\n",
       "9  1990–1999     7       3"
      ],
      "text/html": "<div>\n<style scoped>\n    .dataframe tbody tr th:only-of-type {\n        vertical-align: middle;\n    }\n\n    .dataframe tbody tr th {\n        vertical-align: top;\n    }\n\n    .dataframe thead th {\n        text-align: right;\n    }\n</style>\n<table border=\"1\" class=\"dataframe\">\n  <thead>\n    <tr style=\"text-align: right;\">\n      <th></th>\n      <th>Decade</th>\n      <th>Male</th>\n      <th>Female</th>\n    </tr>\n  </thead>\n  <tbody>\n    <tr>\n      <th>0</th>\n      <td>1900–1909</td>\n      <td>9</td>\n      <td>1</td>\n    </tr>\n    <tr>\n      <th>1</th>\n      <td>1910–1919</td>\n      <td>9</td>\n      <td>0</td>\n    </tr>\n    <tr>\n      <th>2</th>\n      <td>1920–1929</td>\n      <td>8</td>\n      <td>2</td>\n    </tr>\n    <tr>\n      <th>3</th>\n      <td>1930–1939</td>\n      <td>8</td>\n      <td>1</td>\n    </tr>\n    <tr>\n      <th>4</th>\n      <td>1940–1949</td>\n      <td>5</td>\n      <td>1</td>\n    </tr>\n    <tr>\n      <th>5</th>\n      <td>1950–1959</td>\n      <td>10</td>\n      <td>0</td>\n    </tr>\n    <tr>\n      <th>6</th>\n      <td>1960–1969</td>\n      <td>10</td>\n      <td>1</td>\n    </tr>\n    <tr>\n      <th>7</th>\n      <td>1970–1979</td>\n      <td>11</td>\n      <td>0</td>\n    </tr>\n    <tr>\n      <th>8</th>\n      <td>1980–1989</td>\n      <td>10</td>\n      <td>0</td>\n    </tr>\n    <tr>\n      <th>9</th>\n      <td>1990–1999</td>\n      <td>7</td>\n      <td>3</td>\n    </tr>\n  </tbody>\n</table>\n</div>"
     },
     "metadata": {},
     "execution_count": 24
    }
   ],
   "source": [
    "# Fetch Clean Data from the Decade and Gender Dataset of Noble Prize Winner on Wikipedia\n",
    "decade_and_gender_data = decade_and_gender_data.drop(columns=\"Unnamed: 0\", axis = 1)\n",
    "decade_and_gender_data.head(10)"
   ]
  },
  {
   "cell_type": "code",
   "execution_count": 25,
   "metadata": {},
   "outputs": [
    {
     "output_type": "execute_result",
     "data": {
      "text/plain": [
       "Decade    14\n",
       "Male      14\n",
       "Female    14\n",
       "dtype: int64"
      ]
     },
     "metadata": {},
     "execution_count": 25
    }
   ],
   "source": [
    "# Print Data Count of Decade and Gender Dataset of Noble Prize Winner on Wikipedia\n",
    "decade_and_gender_data.count()"
   ]
  },
  {
   "cell_type": "code",
   "execution_count": 26,
   "metadata": {},
   "outputs": [
    {
     "output_type": "stream",
     "name": "stdout",
     "text": [
      "<class 'pandas.core.frame.DataFrame'>\nRangeIndex: 14 entries, 0 to 13\nData columns (total 3 columns):\nDecade    14 non-null object\nMale      14 non-null int64\nFemale    14 non-null int64\ndtypes: int64(2), object(1)\nmemory usage: 344.0+ bytes\n"
     ]
    }
   ],
   "source": [
    "# Print Information of Decade and Gender Dataset of Noble Prize Winner on Wikipedia\n",
    "decade_and_gender_data.info()"
   ]
  },
  {
   "cell_type": "code",
   "execution_count": 27,
   "metadata": {},
   "outputs": [
    {
     "output_type": "execute_result",
     "data": {
      "text/plain": [
       "             Male     Female\n",
       "count   14.000000  14.000000\n",
       "mean    14.428571   2.285714\n",
       "std     25.068258   4.103068\n",
       "min      0.000000   0.000000\n",
       "25%      7.000000   0.250000\n",
       "50%      8.500000   1.000000\n",
       "75%     10.000000   2.750000\n",
       "max    101.000000  16.000000"
      ],
      "text/html": "<div>\n<style scoped>\n    .dataframe tbody tr th:only-of-type {\n        vertical-align: middle;\n    }\n\n    .dataframe tbody tr th {\n        vertical-align: top;\n    }\n\n    .dataframe thead th {\n        text-align: right;\n    }\n</style>\n<table border=\"1\" class=\"dataframe\">\n  <thead>\n    <tr style=\"text-align: right;\">\n      <th></th>\n      <th>Male</th>\n      <th>Female</th>\n    </tr>\n  </thead>\n  <tbody>\n    <tr>\n      <th>count</th>\n      <td>14.000000</td>\n      <td>14.000000</td>\n    </tr>\n    <tr>\n      <th>mean</th>\n      <td>14.428571</td>\n      <td>2.285714</td>\n    </tr>\n    <tr>\n      <th>std</th>\n      <td>25.068258</td>\n      <td>4.103068</td>\n    </tr>\n    <tr>\n      <th>min</th>\n      <td>0.000000</td>\n      <td>0.000000</td>\n    </tr>\n    <tr>\n      <th>25%</th>\n      <td>7.000000</td>\n      <td>0.250000</td>\n    </tr>\n    <tr>\n      <th>50%</th>\n      <td>8.500000</td>\n      <td>1.000000</td>\n    </tr>\n    <tr>\n      <th>75%</th>\n      <td>10.000000</td>\n      <td>2.750000</td>\n    </tr>\n    <tr>\n      <th>max</th>\n      <td>101.000000</td>\n      <td>16.000000</td>\n    </tr>\n  </tbody>\n</table>\n</div>"
     },
     "metadata": {},
     "execution_count": 27
    }
   ],
   "source": [
    "# Describe the Decade and Gender Dataset of Noble Prize Winner on Wikipedia\n",
    "decade_and_gender_data.describe()"
   ]
  }
 ]
}