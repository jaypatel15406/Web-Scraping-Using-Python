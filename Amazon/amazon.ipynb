{
 "metadata": {
  "language_info": {
   "codemirror_mode": {
    "name": "ipython",
    "version": 3
   },
   "file_extension": ".py",
   "mimetype": "text/x-python",
   "name": "python",
   "nbconvert_exporter": "python",
   "pygments_lexer": "ipython3",
   "version": "3.7.4-final"
  },
  "orig_nbformat": 2,
  "kernelspec": {
   "name": "python3",
   "display_name": "Python 3.7.4 32-bit",
   "metadata": {
    "interpreter": {
     "hash": "3516c099f2e50fbe6b83d8aca3e7ba54c35d25f18189c7f24f96f469bdbc3fe7"
    }
   }
  }
 },
 "nbformat": 4,
 "nbformat_minor": 2,
 "cells": [
  {
   "source": [
    "<b>Aim:- Our task is to fetch Product Information from Amazon Search list and Store it in Tabular Format Using Python.</b>\n",
    "\n",
    "> <b>NOTE:-</b> This Module is dedicated for the Learning Purpose Only. <br/>\n",
    "\n",
    "All the Necessary libraries used in this Module has been stated below:-\n",
    "\n",
    "```\n",
    "Library Requirments:-\n",
    "1. urllib (to install type:- 'pip install urllib')\n",
    "2. bs4 (to install type:- 'pip install bs4')\n",
    "3. requests (to install type:- 'pip install requests')\n",
    "4. re (to install type:- 'pip install re')\n",
    "5. prettytable (to install type:- 'pip install prettytable')\n",
    "```\n",
    "\n",
    "<b>Information and Usage of Library:-</b>\n",
    "\n",
    "<b>1. urllib:- </b>\n",
    "\"urllib\" also known as \"URL Library\" it was basically used for working with urls. Such as \"Requesting and Opening URL\" by ```urllib.request``` and for much more similar operations for url. <br/>\n",
    "\n",
    "<b>2. bs4:- </b>\n",
    "\"bs4\" also known as \"BeautifulSoup4\" it was basically used for scraping Information from the particular web page easily. It also sits atop an HTML or XML parser, providing Pythonic idioms for iterating, searching, and modifying the parse tree. <br/>\n",
    "\n",
    "<b>3. requests:-</b>\n",
    "\"requests\" is a simple but elegant HTTP Library. Requests allows you to send HTTP/1.1 requests extremely easily. <br/>\n",
    "\n",
    "<b>4. re:- </b>\n",
    "\"re\" is also known as \"Regular Expression\" library. This library is basically used for working with \"Regular Expression\". Such as removing unnecessary Data using \"RegEx\", or find some pattern from Dataset using \"RegEx\", and much more. <br/>\n",
    "\n",
    "<b>5. prettytable:-</b>\n",
    "\"prettytable\" library is basically used for easily displaying tabular data in a visually appealing ASCII table format. <br/>\n"
   ],
   "cell_type": "markdown",
   "metadata": {}
  },
  {
   "cell_type": "code",
   "execution_count": 1,
   "metadata": {},
   "outputs": [],
   "source": [
    "# Importing all the Important Libraries\n",
    "from urllib.request import urlopen\n",
    "from bs4 import BeautifulSoup\n",
    "import requests\n",
    "import re\n",
    "from prettytable import PrettyTable"
   ]
  },
  {
   "source": [
    "<h2>Fetch HTML Data From the URL Using BeautifulSoup</h2>"
   ],
   "cell_type": "markdown",
   "metadata": {}
  },
  {
   "cell_type": "code",
   "execution_count": 2,
   "metadata": {},
   "outputs": [],
   "source": [
    "# Store URL into Website Variable, For e.g.:- I have Taken Amazon Shopping for Data Scraping !!!\n",
    "website_url = \"https://www.amazon.in/s?k=smart+phones&ref=nb_sb_noss\"\n",
    "# website_url = \"https://www.amazon.in/s?k=mi+phones&ref=nb_sb_noss_2\""
   ]
  },
  {
   "cell_type": "code",
   "execution_count": 3,
   "metadata": {},
   "outputs": [],
   "source": [
    "# Web Request of Web Page and Fetch URL and HTML Page for Scraping Data\n",
    "web_req = requests.get(website_url)\n",
    "fetch_url = urlopen(website_url)\n",
    "page_html = fetch_url.read()\n",
    "# content = web_req.content\n",
    "# soup = BeautifulSoup(content)"
   ]
  },
  {
   "cell_type": "code",
   "execution_count": 4,
   "metadata": {},
   "outputs": [],
   "source": [
    "# Parse HTML Content to Soup Variable\n",
    "soup = BeautifulSoup(page_html,\"html.parser\")"
   ]
  },
  {
   "source": [
    "<h3>Print HTML Content in Pretiffy Format</h3>"
   ],
   "cell_type": "markdown",
   "metadata": {}
  },
  {
   "cell_type": "code",
   "execution_count": 5,
   "metadata": {
    "tags": [
     "outputPrepend"
    ]
   },
   "outputs": [
    {
     "output_type": "stream",
     "name": "stdout",
     "text": [
      "2.0&' class='nav-a'>Start here.</a></div></div>\"},\n      \"templates\":{\"itemList\":\"<# var hasColumns = (function () {  var checkColumns = function (_items) {    if (!_items) {      return false;    }    for (var i=0; i<_items.length; i++) {      if (_items[i].columnBreak || (_items[i].items && checkColumns(_items[i].items))) {        return true;      }    }    return false;  };  return checkColumns(items);}()); #><# if(hasColumns) { #>  <# if(items[0].image && items[0].image.src) { #>    <div class='nav-column nav-column-first nav-column-image'>  <# } else if (items[0].greeting) { #>    <div class='nav-column nav-column-first nav-column-greeting'>  <# } else { #>    <div class='nav-column nav-column-first'>  <# } #><# } #><# var renderItems = function(items) { #>  <# jQuery.each(items, function (i, item) { #>    <# if(hasColumns && item.columnBreak) { #>      <# if(item.image && item.image.src) { #>        </div><div class='nav-column nav-column-notfirst nav-column-break nav-column-image'>      <# } else if (item.greeting) { #>        </div><div class='nav-column nav-column-notfirst nav-column-break nav-column-greeting'>      <# } else { #>        </div><div class='nav-column nav-column-notfirst nav-column-break'>      <# } #>    <# } #>    <# if(item.dividerBefore) { #>      <div class='nav-divider'></div>    <# } #>    <# if(item.text || item.content) { #>      <# if(item.url) { #>        <a href='<#=item.url #>' class='nav-link      <# } else {#>        <span class='      <# } #>      <# if(item.panelKey) { #>        nav-hasPanel      <# } #>      <# if(item.items) { #>        nav-title      <# } #>      <# if(item.decorate == 'carat') { #>        nav-carat      <# } #>      <# if(item.decorate == 'nav-action-button') { #>        nav-action-button      <# } #>      nav-item'      <# if(item.extra) { #>        <#=item.extra #>      <# } #>      <# if(item.id) { #>        id='<#=item.id #>'      <# } #>      <# if(item.dataNavRole) { #>        data-nav-role='<#=item.dataNavRole #>'      <# } #>      <# if(item.dataNavRef) { #>        data-nav-ref='<#=item.dataNavRef #>'      <# } #>      <# if(item.panelKey) { #>        data-nav-panelkey='<#=item.panelKey #>'        role='navigation'        aria-label='<#=item.text#>'      <# } #>      <# if(item.subtextKey) { #>        data-nav-subtextkey='<#=item.subtextKey #>'      <# } #>      <# if(item.image && item.image.height > 16) { #>        style='line-height:<#=item.image.height #>px;'      <# } #>      >      <# if(item.decorate == 'carat') { #>        <i class='nav-icon'></i>      <# } #>      <# if(item.image && item.image.src) { #>        <img class='nav-image' src='<#=item.image.src #>' style='height:<#=item.image.height #>px; width:<#=item.image.width #>px;' />      <# } #>      <# if(item.text) { #>        <span class='nav-text<# if(item.classname) { #> <#=item.classname #><# } #>'><#=item.text#><# if(item.badgeText) { #>          <span class='nav-badge'><#=item.badgeText#></span>        <# } #></span>      <# } else if (item.content) { #>        <span class='nav-content'><# jQuery.each(item.content, function (j, cItem) { #><# if(cItem.url && cItem.text) { #><a href='<#=cItem.url #>' class='nav-a'><#=cItem.text #></a><# } else if (cItem.text) { #><#=cItem.text#><# } #><# }); #></span>      <# } #>      <# if(item.subtext) { #>        <span class='nav-subtext'><#=item.subtext #></span>      <# } #>      <# if(item.url) { #>        </a>      <# } else {#>        </span>      <# } #>    <# } #>    <# if(item.image && item.image.src) { #>      <# if(item.url) { #>        <a href='<#=item.url #>'>       <# } #>      <img class='nav-image'      <# if(item.id) { #>        id='<#=item.id #>'      <# } #>      src='<#=item.image.src #>' <# if (item.alt) { #> alt='<#= item.alt #>'<# } #>/>      <# if(item.url) { #>        </a>       <# } #>    <# } #>    <# if(item.items) { #>      <div class='nav-panel'> <# renderItems(item.items); #> </div>    <# } #>  <# }); #><# }; #><# renderItems(items); #><# if(hasColumns) { #>  </div><# } #>\",\"subnav\":\"<# if (obj && obj.type === 'vertical') { #>  <# jQuery.each(obj.rows, function (i, row) { #>    <# if (row.flyoutElement === 'button') { #>      <div class='nav_sv_fo_v_button'        <# if (row.elementStyle) { #>          style='<#= row.elementStyle #>'        <# } #>      >        <a href='<#=row.url #>' class='nav-action-button nav-sprite'>          <#=row.text #>        </a>      </div>    <# } else if (row.flyoutElement === 'list' && row.list) { #>      <# jQuery.each(row.list, function (j, list) { #>        <div class='nav_sv_fo_v_column <#=(j === 0) ? 'nav_sv_fo_v_first' : '' #>'>          <ul class='<#=list.elementClass #>'>          <# jQuery.each(list.linkList, function (k, link) { #>            <# if (k === 0) { link.elementClass += ' nav_sv_fo_v_first'; } #>            <li class='<#=link.elementClass #>'>              <# if (link.url) { #>                <a href='<#=link.url #>' class='nav_a'><#=link.text #></a>              <# } else { #>                <span class='nav_sv_fo_v_span'><#=link.text #></span>              <# } #>            </li>          <# }); #>          </ul>        </div>      <# }); #>    <# } else if (row.flyoutElement === 'link') { #>      <# if (row.topSpacer) { #>        <div class='nav_sv_fo_v_clear'></div>      <# } #>      <div class='<#=row.elementClass #>'>        <a href='<#=row.url #>' class='nav_sv_fo_v_lmargin nav_a'>          <#=row.text #>        </a>      </div>    <# } #>  <# }); #><# } else if (obj) { #>  <div class='nav_sv_fo_scheduled'>    <#= obj #>  </div><# } #>\",\"htmlList\":\"<# jQuery.each(items, function (i, item) { #>  <div class='nav-item'>    <#=item #>  </div><# }); #>\"}\n    })\n  })\n   </script>\n   <script type=\"text/javascript\">\n    window.$Nav && $Nav.declare('config.flyoutURL', null);\n  window.$Nav && $Nav.declare('btf.lite');\n  window.$Nav && $Nav.declare('btf.full');\n  window.$Nav && $Nav.declare('btf.exists');\n  (window.AmazonUIPageJS ? AmazonUIPageJS : P).register('navCF');\n   </script>\n   <!-- NAVYAAN BTF END -->\n   <!-- btf tilu -->\n   <!-- sp:feature:host-btf -->\n   <!-- sp:end-feature:host-btf -->\n   <!-- sp:feature:aui-preload -->\n   <!-- sp:feature:nav-footer -->\n   <!-- footer pilu -->\n   <div class=\"navLeftFooter nav-sprite-v1\" id=\"navFooter\">\n    <a href=\"#nav-top\" id=\"navBackToTop\">\n     <div class=\"navFooterBackToTop\">\n      <span class=\"navFooterBackToTopText\">\n       Back to top\n      </span>\n     </div>\n    </a>\n    <div class=\"navFooterVerticalColumn navAccessibility\" role=\"presentation\">\n     <div class=\"navFooterVerticalRow navAccessibility\" style=\"display: table-row;\">\n      <div class=\"navFooterLinkCol navAccessibility\">\n       <div class=\"navFooterColHead\">\n        Get to Know Us\n       </div>\n       <ul>\n        <li class=\"nav_first\">\n         <a class=\"nav_a\" href=\"https://www.aboutamazon.in/?utm_source=gateway&amp;utm_medium=footer\">\n          About Us\n         </a>\n        </li>\n        <li>\n         <a class=\"nav_a\" href=\"https://amazon.jobs\">\n          Careers\n         </a>\n        </li>\n        <li>\n         <a class=\"nav_a\" href=\"https://press.aboutamazon.in/?utm_source=gateway&amp;utm_medium=footer\">\n          Press Releases\n         </a>\n        </li>\n        <li>\n         <a class=\"nav_a\" href=\"/b?ie=UTF8&amp;node=8872558031&amp;ref_=footer_cares\">\n          Amazon Cares\n         </a>\n        </li>\n        <li class=\"nav_last\">\n         <a class=\"nav_a\" href=\"/Online-Charity/b?ie=UTF8&amp;node=4594605031&amp;ref_=footer_smile\">\n          Gift a Smile\n         </a>\n        </li>\n       </ul>\n      </div>\n      <div class=\"navFooterColSpacerInner navAccessibility\">\n      </div>\n      <div class=\"navFooterLinkCol navAccessibility\">\n       <div class=\"navFooterColHead\">\n        Connect with Us\n       </div>\n       <ul>\n        <li class=\"nav_first\">\n         <a class=\"nav_a\" href=\"http://www.amazon.in/gp/redirect.html/ref=footer_fb?location=http://www.facebook.com/AmazonIN&amp;token=2075D5EAC7BB214089728E2183FD391706D41E94&amp;6\">\n          Facebook\n         </a>\n        </li>\n        <li>\n         <a class=\"nav_a\" href=\"http://www.amazon.in/gp/redirect.html/ref=footer_twitter?location=http://twitter.com/AmazonIN&amp;token=A309DFBFCB1E37A808FF531934855DC817F130B6&amp;6\">\n          Twitter\n         </a>\n        </li>\n        <li class=\"nav_last\">\n         <a class=\"nav_a\" href=\"http://www.amazon.in/gp/redirect.html?location=https://www.instagram.com/amazondotin&amp;token=264882C912E9D005CB1D9B61F12E125D5DF9BFC7&amp;source=standards\">\n          Instagram\n         </a>\n        </li>\n       </ul>\n      </div>\n      <div class=\"navFooterColSpacerInner navAccessibility\">\n      </div>\n      <div class=\"navFooterLinkCol navAccessibility\">\n       <div class=\"navFooterColHead\">\n        Make Money with Us\n       </div>\n       <ul>\n        <li class=\"nav_first\">\n         <a class=\"nav_a\" href=\"/b/?_encoding=UTF8&amp;ld=AZINSOANavDesktopFooter&amp;node=2838698031&amp;ref_=nav_footer_sell\">\n          Sell on Amazon\n         </a>\n        </li>\n        <li>\n         <a class=\"nav_a\" href=\"https://accelerator.amazon.in/?ref_=map_1_b2b_GW_FT\">\n          Sell under Amazon Accelerator\n         </a>\n        </li>\n        <li>\n         <a class=\"nav_a\" href=\"https://sell.amazon.in/grow-your-business/amazon-global-selling.htmll?ld=AZIN_Footer_V1&amp;ref=AZIN_Footer_V1\">\n          Amazon Global Selling\n         </a>\n        </li>\n        <li>\n         <a class=\"nav_a\" href=\"/gp/redirect.html?_encoding=UTF8&amp;location=https%3A%2F%2Faffiliate-program.amazon.in%2F%3Fref_%3Dfooter_assoc%26utm_campaign%3Dassocshowcase%26utm_medium%3Dfooter%26utm_source%3DGW&amp;source=standards&amp;token=4D7ADB5A094B04230C576B761FB8EC3D657E2376\">\n          Become an Affiliate\n         </a>\n        </li>\n        <li>\n         <a class=\"nav_a\" href=\"http://services.amazon.in/services/fulfilment-by-amazon/benefits.html/ref=az_footer_fba?ld=AWRGINFBAfooter\">\n          Fulfilment by Amazon\n         </a>\n        </li>\n        <li>\n         <a class=\"nav_a\" href=\"https://advertising.amazon.in/?ref=Amz.in\">\n          Advertise Your Products\n         </a>\n        </li>\n        <li>\n         <a class=\"nav_a\" href=\"https://www.amazonpay.in/merchant\">\n          Amazon Pay on Merchants\n         </a>\n        </li>\n        <li class=\"nav_last\">\n         <a class=\"nav_a\" href=\"https://www.amazon.in/b/?node=16183878031&amp;ref_=nav_footer_oneamazon&amp;ld=AZINONEAMAZONNavDesktopFooter\">\n          See More Make Money with Us\n         </a>\n        </li>\n       </ul>\n      </div>\n      <div class=\"navFooterColSpacerInner navAccessibility\">\n      </div>\n      <div class=\"navFooterLinkCol navAccessibility\">\n       <div class=\"navFooterColHead\">\n        Let Us Help You\n       </div>\n       <ul>\n        <li class=\"nav_first\">\n         <a class=\"nav_a\" href=\"/gp/help/customer/display.html?ie=UTF8&amp;nodeId=GDFU3JS5AL6SYHRD&amp;ref_=footer_covid\">\n          COVID-19 and Amazon\n         </a>\n        </li>\n        <li>\n         <a class=\"nav_a\" href=\"/gp/css/homepage.html?ie=UTF8&amp;ref_=footer_ya\">\n          Your Account\n         </a>\n        </li>\n        <li>\n         <a class=\"nav_a\" href=\"/gp/css/returns/homepage.html?ie=UTF8&amp;ref_=footer_hy_f_4\">\n          Returns Centre\n         </a>\n        </li>\n        <li>\n         <a class=\"nav_a\" href=\"/gp/help/customer/display.html?ie=UTF8&amp;nodeId=201083470&amp;ref_=footer_swc\">\n          100% Purchase Protection\n         </a>\n        </li>\n        <li>\n         <a class=\"nav_a\" href=\"/b?ie=UTF8&amp;node=6967393031&amp;ref_=footer_mobapp\">\n          Amazon App Download\n         </a>\n        </li>\n        <li>\n         <a class=\"nav_a\" href=\"/aa/ref=footer_assistant_download_copy?bitCampaignCode=i0003\">\n          Amazon Assistant Download\n         </a>\n        </li>\n        <li class=\"nav_last\">\n         <a class=\"nav_a\" href=\"/gp/help/customer/display.html?ie=UTF8&amp;nodeId=200507590&amp;ref_=footer_gw_m_b_he\">\n          Help\n         </a>\n        </li>\n       </ul>\n      </div>\n     </div>\n    </div>\n    <div class=\"nav-footer-line\">\n    </div>\n    <div class=\"navFooterLine navFooterLinkLine navFooterPadItemLine\">\n     <span>\n      <div class=\"navFooterLine navFooterLogoLine\">\n       <a href=\"/ref=footer_logo\">\n        <div class=\"nav-logo-base nav-sprite\">\n        </div>\n       </a>\n      </div>\n     </span>\n     <ul>\n     </ul>\n     <span class=\"icp-container-desktop\">\n      <div class=\"navFooterLine\">\n       <style type=\"text/css\">\n        #icp-touch-link-language { display: none; }\n       </style>\n       <a class=\"icp-button\" href=\"/gp/customer-preferences/select-language?ie=UTF8&amp;preferencesReturnUrl=%2F\" id=\"icp-touch-link-language\">\n        <div class=\"icp-nav-globe-img-2 icp-button-globe-2\">\n        </div>\n        <span class=\"icp-color-base\">\n         English\n        </span>\n        <span class=\"nav-arrow icp-up-down-arrow\">\n        </span>\n        <span class=\"aok-hidden\" style=\"display:none\">\n         Choose a language for shopping.\n        </span>\n       </a>\n       <style type=\"text/css\">\n        #icp-touch-link-country { display: none; }\n       </style>\n      </div>\n     </span>\n     <ul>\n     </ul>\n    </div>\n    <div class=\"navFooterLine navFooterLinkLine navFooterPadItemLine\">\n     <ul>\n      <li class=\"nav_first\">\n       <a class=\"nav_a\" href=\"http://www.amazon.com.au/ref=footer_au\">\n        Australia\n       </a>\n      </li>\n      <li>\n       <a class=\"nav_a\" href=\"http://www.amazon.com.br/ref=footer_br\">\n        Brazil\n       </a>\n      </li>\n      <li>\n       <a class=\"nav_a\" href=\"http://www.amazon.ca/ref=footer_ca\">\n        Canada\n       </a>\n      </li>\n      <li>\n       <a class=\"nav_a\" href=\"http://www.amazon.cn/ref=footer_cn\">\n        China\n       </a>\n      </li>\n      <li>\n       <a class=\"nav_a\" href=\"http://www.amazon.fr/ref=footer_fr\">\n        France\n       </a>\n      </li>\n      <li>\n       <a class=\"nav_a\" href=\"http://www.amazon.de/ref=footer_de\">\n        Germany\n       </a>\n      </li>\n      <li>\n       <a class=\"nav_a\" href=\"http://www.amazon.it/ref=footer_it\">\n        Italy\n       </a>\n      </li>\n      <li>\n       <a class=\"nav_a\" href=\"http://www.amazon.co.jp/ref=footer_jp\">\n        Japan\n       </a>\n      </li>\n      <li>\n       <a class=\"nav_a\" href=\"http://www.amazon.com.mx/ref=footer_mx\">\n        Mexico\n       </a>\n      </li>\n      <li>\n       <a class=\"nav_a\" href=\"http://www.amazon.nl/ref=footer_nl\">\n        Netherlands\n       </a>\n      </li>\n      <li>\n       <a class=\"nav_a\" href=\"http://www.amazon.sg/ref=footer_sg\">\n        Singapore\n       </a>\n      </li>\n      <li>\n       <a class=\"nav_a\" href=\"http://www.amazon.es/ref=footer_es\">\n        Spain\n       </a>\n      </li>\n      <li>\n       <a class=\"nav_a\" href=\"http://www.amazon.ae/ref=footer_ae\">\n        United Arab Emirates\n       </a>\n      </li>\n      <li>\n       <a class=\"nav_a\" href=\"http://www.amazon.co.uk/ref=footer_uk\">\n        United Kingdom\n       </a>\n      </li>\n      <li class=\"nav_last\">\n       <a class=\"nav_a\" href=\"http://www.amazon.com/ref=footer_us\">\n        United States\n       </a>\n      </li>\n     </ul>\n    </div>\n    <div class=\"navFooterLine navFooterLinkLine navFooterDescLine\">\n     <table cellspacing=\"0\" class=\"navFooterMoreOnAmazon\">\n      <tr>\n       <td class=\"navFooterDescItem\">\n        <a class=\"nav_a\" href=\"https://www.abebooks.com/\">\n         AbeBooks\n         <br/>\n         <span class=\"navFooterDescText\">\n          Books, art\n          <br/>\n          &amp; collectibles\n         </span>\n        </a>\n       </td>\n       <td class=\"navFooterDescSpacer\" style=\"width: 4%\">\n       </td>\n       <td class=\"navFooterDescItem\">\n        <a class=\"nav_a\" href=\"https://aws.amazon.com/what-is-cloud-computing/?sc_channel=EL&amp;sc_campaign=IN_amazonfooter\">\n         Amazon Web Services\n         <br/>\n         <span class=\"navFooterDescText\">\n          Scalable Cloud\n          <br/>\n          Computing Services\n         </span>\n        </a>\n       </td>\n       <td class=\"navFooterDescSpacer\" style=\"width: 4%\">\n       </td>\n       <td class=\"navFooterDescItem\">\n        <a class=\"nav_a\" href=\"https://www.audible.in/\">\n         Audible\n         <br/>\n         <span class=\"navFooterDescText\">\n          Download\n          <br/>\n          Audio Books\n         </span>\n        </a>\n       </td>\n       <td class=\"navFooterDescSpacer\" style=\"width: 4%\">\n       </td>\n       <td class=\"navFooterDescItem\">\n        <a class=\"nav_a\" href=\"https://www.dpreview.com/\">\n         DPReview\n         <br/>\n         <span class=\"navFooterDescText\">\n          Digital\n          <br/>\n          Photography\n         </span>\n        </a>\n       </td>\n       <td class=\"navFooterDescSpacer\" style=\"width: 4%\">\n       </td>\n       <td class=\"navFooterDescItem\">\n        <a class=\"nav_a\" href=\"https://www.imdb.com/\">\n         IMDb\n         <br/>\n         <span class=\"navFooterDescText\">\n          Movies, TV\n          <br/>\n          &amp; Celebrities\n         </span>\n        </a>\n       </td>\n      </tr>\n      <tr>\n       <td>\n       </td>\n      </tr>\n      <tr>\n       <td class=\"navFooterDescItem\">\n        <a class=\"nav_a\" href=\"https://www.shopbop.com/\">\n         Shopbop\n         <br/>\n         <span class=\"navFooterDescText\">\n          Designer\n          <br/>\n          Fashion Brands\n         </span>\n        </a>\n       </td>\n       <td class=\"navFooterDescSpacer\" style=\"width: 4%\">\n       </td>\n       <td class=\"navFooterDescItem\">\n        <a class=\"nav_a\" href=\"/business?ref=footer_aingw\">\n         Amazon Business\n         <br/>\n         <span class=\"navFooterDescText\">\n          Everything For\n          <br/>\n          Your Business\n         </span>\n        </a>\n       </td>\n       <td class=\"navFooterDescSpacer\" style=\"width: 4%\">\n       </td>\n       <td class=\"navFooterDescItem\">\n        <a class=\"nav_a\" href=\"/now?ref=footer_amznow\">\n         Prime Now\n         <br/>\n         <span class=\"navFooterDescText\">\n          2-Hour Delivery\n          <br/>\n          on Everyday Items\n         </span>\n        </a>\n       </td>\n       <td class=\"navFooterDescSpacer\" style=\"width: 4%\">\n       </td>\n       <td class=\"navFooterDescItem\">\n        <a class=\"nav_a\" href=\"/music/prime?ref=footer_apm\">\n         Amazon Prime Music\n         <br/>\n         <span class=\"navFooterDescText\">\n          70 million songs, ad-free\n         </span>\n        </a>\n       </td>\n       <td class=\"navFooterDescSpacer\" style=\"width: 4%\">\n       </td>\n       <td class=\"navFooterDescItem\">\n       </td>\n      </tr>\n     </table>\n    </div>\n    <div class=\"navFooterLine navFooterLinkLine navFooterPadItemLine navFooterCopyright\">\n     <ul>\n      <li class=\"nav_first\">\n       <a class=\"nav_a\" href=\"/gp/help/customer/display.html?ie=UTF8&amp;nodeId=200545940&amp;ref_=footer_cou\">\n        Conditions of Use &amp; Sale\n       </a>\n      </li>\n      <li>\n       <a class=\"nav_a\" href=\"/gp/help/customer/display.html?ie=UTF8&amp;nodeId=200534380&amp;ref_=footer_privacy\">\n        Privacy Notice\n       </a>\n      </li>\n      <li class=\"nav_last\">\n       <a class=\"nav_a\" href=\"/gp/help/customer/display.html?ie=UTF8&amp;nodeId=202075050&amp;ref_=footer_iba\">\n        Interest-Based Ads\n       </a>\n      </li>\n     </ul>\n     <span>\n      © 1996-2021, Amazon.com, Inc. or its affiliates\n     </span>\n     <ul>\n     </ul>\n    </div>\n   </div>\n   <!-- whfh-hmFpjaAgfJwGWubRVmrArfJfoGN0fgzn4UwuK4rmZO93bGSR5UHHcw== rid-2FWNQRYEWSHVXREAEFNR -->\n   <div aria-hidden=\"true\" id=\"sis_pixel_r2\" style=\"height:1px; position: absolute; left: -1000000px; top: -1000000px;\">\n   </div>\n   <!-- footer tilu -->\n   <!-- sp:feature:amazon-pay-iframe -->\n   <!-- sp:end-feature:amazon-pay-iframe -->\n  </div>\n </body>\n</html>\n<!--       _\n       .__(.)< (MEOW)\n        \\___)   \n ~~~~~~~~~~~~~~~~~~-->\n<!-- sp:eh:i6f+qK9XXP/XJJQ8/uJy+sgeo/GRxQIQi/aMoYD76M74UtNGiOg1oiEvdcrb4J53U+6XSdT+AnGhBP0jGg6i/oVodi14NxNCg1WPp3Sd0Og7/eycBZBiiw== -->\n\n"
     ]
    }
   ],
   "source": [
    "# Print Code Using Pretiffy Format\n",
    "print(soup.prettify())"
   ]
  },
  {
   "cell_type": "code",
   "execution_count": 6,
   "metadata": {},
   "outputs": [
    {
     "output_type": "stream",
     "name": "stdout",
     "text": [
      "Length of the Soup Code is:-  3514\n"
     ]
    }
   ],
   "source": [
    "# Length of the Given Code\n",
    "print(\"Length of the Soup Code is:- \", len(soup()))"
   ]
  },
  {
   "source": [
    "<h2>Find Product Name and Product Price using findAll() function and Strip Down all the Data Using strip() Function !</h2>"
   ],
   "cell_type": "markdown",
   "metadata": {}
  },
  {
   "cell_type": "code",
   "execution_count": 7,
   "metadata": {},
   "outputs": [
    {
     "output_type": "stream",
     "name": "stdout",
     "text": [
      "[<span class=\"a-size-medium a-color-base a-text-normal\" dir=\"auto\">Redmi 9A (Nature Green, 2GB Ram, 32GB Storage) | 2GHz Octa-core Helio G25 Processor</span>, <span class=\"a-size-medium a-color-base a-text-normal\" dir=\"auto\">Redmi 9 (Sky Blue, 4GB RAM, 64GB Storage)</span>, <span class=\"a-size-medium a-color-base a-text-normal\" dir=\"auto\">Redmi Note 9 (Pebble Grey, 4GB RAM 64GB Storage) - 48MP Quad Camera &amp; Full HD+ Display | Extra Upto INR 1000 Off on Exchange</span>, <span class=\"a-size-medium a-color-base a-text-normal\" dir=\"auto\">Samsung Galaxy M01 Core (Black, 2GB RAM, 32GB Storage) with No Cost EMI/Additional Exchange Offers</span>, <span class=\"a-size-medium a-color-base a-text-normal\" dir=\"auto\">Redmi 9 (Carbon Black, 4GB RAM, 64GB Storage)</span>, <span class=\"a-size-medium a-color-base a-text-normal\" dir=\"auto\">Samsung Galaxy M31 (Ocean Blue, 6GB RAM, 128GB Storage)</span>, <span class=\"a-size-medium a-color-base a-text-normal\" dir=\"auto\">Samsung Galaxy M21 (Midnight Blue, 4GB RAM, 64GB Storage)</span>, <span class=\"a-size-medium a-color-base a-text-normal\" dir=\"auto\">Redmi Note 9 Pro Max (Interstellar Black, 6GB RAM, 64GB Storage) - 64MP Quad Camera &amp; Alexa Hands-Free</span>, <span class=\"a-size-medium a-color-base a-text-normal\" dir=\"auto\">Oppo A31 (Mystery Black, 6GB RAM, 128GB Storage) with No Cost EMI/Additional Exchange Offers</span>, <span class=\"a-size-medium a-color-base a-text-normal\" dir=\"auto\">Samsung Galaxy M01 Core (Black, 1GB RAM, 16GB Storage) with No Cost EMI/Additional Exchange Offers</span>, <span class=\"a-size-medium a-color-base a-text-normal\" dir=\"auto\">Samsung Galaxy M12 (Blue,6GB RAM, 128GB Storage) 6000 mAh with 8nm Processor | True 48 MP Quad Camera | 90Hz Refresh Rate</span>, <span class=\"a-size-medium a-color-base a-text-normal\" dir=\"auto\">Samsung Galaxy M12 (White,4GB RAM, 64GB Storage) 6000 mAh with 8nm Processor | True 48 MP Quad Camera | 90Hz Refresh Rate</span>, <span class=\"a-size-medium a-color-base a-text-normal\" dir=\"auto\">Samsung Galaxy M12 (White,6GB RAM, 128GB Storage) 6000 mAh with 8nm Processor | True 48 MP Quad Camera | 90Hz Refresh Rate</span>, <span class=\"a-size-medium a-color-base a-text-normal\" dir=\"auto\">Samsung Galaxy M12 (Black,4GB RAM, 64GB Storage) 6000 mAh with 8nm Processor | True 48 MP Quad Camera | 90Hz Refresh Rate</span>, <span class=\"a-size-medium a-color-base a-text-normal\" dir=\"auto\">Samsung Galaxy M12 (Blue,4GB RAM, 64GB Storage) 6000 mAh with 8nm Processor | True 48 MP Quad Camera | 90Hz Refresh Rate</span>, <span class=\"a-size-medium a-color-base a-text-normal\" dir=\"auto\">Samsung Galaxy M12 (Black,6GB RAM, 128GB Storage) 6000 mAh with 8nm Processor | True 48 MP Quad Camera | 90Hz Refresh Rate</span>]\n"
     ]
    }
   ],
   "source": [
    "# Fetch Code For Product Name\n",
    "product_name = soup.findAll(\"span\",{'class':\"a-size-medium a-color-base a-text-normal\"})\n",
    "print(product_name)"
   ]
  },
  {
   "cell_type": "code",
   "execution_count": 8,
   "metadata": {},
   "outputs": [
    {
     "output_type": "stream",
     "name": "stdout",
     "text": [
      "Redmi 9A (Nature Green, 2GB Ram, 32GB Storage) | 2GHz Octa-core Helio G25 Processor\nRedmi 9 (Sky Blue, 4GB RAM, 64GB Storage)\nRedmi Note 9 (Pebble Grey, 4GB RAM 64GB Storage) - 48MP Quad Camera & Full HD+ Display | Extra Upto INR 1000 Off on Exchange\nSamsung Galaxy M01 Core (Black, 2GB RAM, 32GB Storage) with No Cost EMI/Additional Exchange Offers\nRedmi 9 (Carbon Black, 4GB RAM, 64GB Storage)\nSamsung Galaxy M31 (Ocean Blue, 6GB RAM, 128GB Storage)\nSamsung Galaxy M21 (Midnight Blue, 4GB RAM, 64GB Storage)\n"
     ]
    }
   ],
   "source": [
    "# Print Product Name From Above Code Using strip() Function\n",
    "for i in range(0,len(soup)):\n",
    "    print(product_name[i].text.strip())"
   ]
  },
  {
   "cell_type": "code",
   "execution_count": 9,
   "metadata": {},
   "outputs": [
    {
     "output_type": "stream",
     "name": "stdout",
     "text": [
      "[<span class=\"a-price-whole\">6,799</span>, <span class=\"a-price-whole\">8,799</span>, <span class=\"a-price-whole\">10,999</span>, <span class=\"a-price-whole\">10,891</span>, <span class=\"a-price-whole\">1,250</span>, <span class=\"a-price-whole\">262</span>, <span class=\"a-price-whole\">1,800</span>, <span class=\"a-price-whole\">1,800</span>, <span class=\"a-price-whole\">8,250</span>, <span class=\"a-price-whole\">4,100</span>, <span class=\"a-price-whole\">6,199</span>, <span class=\"a-price-whole\">8,799</span>, <span class=\"a-price-whole\">16,499</span>, <span class=\"a-price-whole\">13,999</span>, <span class=\"a-price-whole\">14,999</span>, <span class=\"a-price-whole\">11,990</span>, <span class=\"a-price-whole\">5,199</span>, <span class=\"a-price-whole\">13,499</span>, <span class=\"a-price-whole\">10,999</span>, <span class=\"a-price-whole\">13,499</span>, <span class=\"a-price-whole\">10,999</span>, <span class=\"a-price-whole\">10,999</span>, <span class=\"a-price-whole\">13,499</span>]\n"
     ]
    }
   ],
   "source": [
    "# Fetch Code For Product Price\n",
    "product_price = soup.findAll(\"span\",{'class':\"a-price-whole\", })\n",
    "print(product_price)"
   ]
  },
  {
   "cell_type": "code",
   "execution_count": 10,
   "metadata": {},
   "outputs": [
    {
     "output_type": "stream",
     "name": "stdout",
     "text": [
      "₹ 6,799\n₹ 8,799\n₹ 10,999\n₹ 10,891\n₹ 1,250\n₹ 262\n₹ 1,800\n"
     ]
    }
   ],
   "source": [
    "# Print Price of Particular Product\n",
    "for i in range(0,len(soup)):\n",
    "    print(\"₹\", product_price[i].text.strip())"
   ]
  },
  {
   "source": [
    "<h2>Fetch all the Data and Clean Data using 're' library and Store it in Tabular format using 'prettytable' library</h2>"
   ],
   "cell_type": "markdown",
   "metadata": {}
  },
  {
   "cell_type": "code",
   "execution_count": 11,
   "metadata": {
    "tags": []
   },
   "outputs": [
    {
     "output_type": "stream",
     "name": "stdout",
     "text": [
      "+---------------------------+---------------------------------------------+--------------+\n|         Model Name        |                Specification                | Price (in ₹) |\n+---------------------------+---------------------------------------------+--------------+\n|        Redmi 9A           |    (Nature Green, 2GB Ram, 32GB Storage)    |    6,799     |\n|         Redmi 9           |      (Sky Blue, 4GB RAM, 64GB Storage)      |    8,799     |\n|      Redmi Note 9         |     (Pebble Grey, 4GB RAM 64GB Storage)     |    10,999    |\n| Samsung Galaxy M01 Core   |        (Black, 2GB RAM, 32GB Storage)       |    6,199     |\n|         Redmi 9           |    (Carbon Black, 4GB RAM, 64GB Storage)    |    8,799     |\n|    Samsung Galaxy M31     |     (Ocean Blue, 6GB RAM, 128GB Storage)    |    16,499    |\n|    Samsung Galaxy M21     |    (Midnight Blue, 4GB RAM, 64GB Storage)   |    13,999    |\n|  Redmi Note 9 Pro Max     | (Interstellar Black, 6GB RAM, 64GB Storage) |    14,999    |\n|         ppo A31           |   (Mystery Black, 6GB RAM, 128GB Storage)   |    11,990    |\n| Samsung Galaxy M01 Core   |        (Black, 1GB RAM, 16GB Storage)       |    5,199     |\n|    Samsung Galaxy M12     |        (Blue,6GB RAM, 128GB Storage)        |    13,499    |\n|    Samsung Galaxy M12     |        (White,4GB RAM, 64GB Storage)        |    10,999    |\n|    Samsung Galaxy M12     |        (White,6GB RAM, 128GB Storage)       |    13,499    |\n|    Samsung Galaxy M12     |        (Black,4GB RAM, 64GB Storage)        |    10,999    |\n|    Samsung Galaxy M12     |         (Blue,4GB RAM, 64GB Storage)        |    10,999    |\n|    Samsung Galaxy M12     |        (Black,6GB RAM, 128GB Storage)       |    13,499    |\n+---------------------------+---------------------------------------------+--------------+\n"
     ]
    }
   ],
   "source": [
    "# Data Table Variable to Print Data in Tabular Format\n",
    "data_table = PrettyTable()\n",
    "\n",
    "# Table Fields\n",
    "data_table.field_names = [\"Model Name\", \"Specification\", \"Price (in ₹)\"]\n",
    "\n",
    "# Loop for Fetching Product Information\n",
    "for data in soup.findAll('div', attrs={'class':'s-result-item s-asin sg-col-0-of-12 sg-col-16-of-20 sg-col sg-col-12-of-16'}):\n",
    "\n",
    "    # Fetch Product Data \n",
    "    product_data = data.find('span', attrs={'class':'a-size-medium a-color-base a-text-normal'})\n",
    "\n",
    "    # Split Product Name From Product Data\n",
    "    product_name = re.sub(r\"\\([^()]*\\)\", \" \", product_data.text.strip(\"with No Cost EMI/Additional Exchange Offers\"))\n",
    "\n",
    "    # Regex for Removing Additional Unnecessary Information Such as \"| 2 GB RAM\", etc.\n",
    "    product_name = re.sub(r\"[|][\\s0-9A-Za-z\\s-]+\", \"\", product_name)\n",
    "\n",
    "    # Regex for Removing Additional Unnecessary Information Such as \"| 6000 Mah Battery\", etc.\n",
    "    product_name = re.sub(r\"\\s[0-9][0-9][0-9][0-9]\\s[a-zA-Z\\s0-9]+\", \"\", product_name)\n",
    "\n",
    "    # Regex for Removing Additional Unnecessary Information Such as \"- 48 Rear MP Camera & 12 MP From Camera\", etc.\n",
    "    product_name = re.sub(r\"[-]\\s[0-9A-Za-z\\s&+-0-9a-zA-Z]+\", \"\", product_name)\n",
    "\n",
    "    # Regex for Removing Additional Unnecessary Information Such as \", 2 Camera Front and Rear\", etc.\n",
    "    product_name = re.sub(r\"[,][0-9A-Za-z\\s]+\", \"\", product_name)\n",
    "\n",
    "    # Split Specification from Product Data\n",
    "    specification = re.search(r\"\\([^()]*\\)\", product_data.text.strip(\"with No Cost EMI/Additional Exchange Offers\"))\n",
    "\n",
    "    # Fetch Price from Product Data\n",
    "    product_price = data.find('span', attrs={'class':'a-price-whole'})\n",
    "    \n",
    "    # Print all the Records in Normal Format\n",
    "    '''\n",
    "    # If Specification of Product is \"None\" the Print \"None\" in Specification Tab\n",
    "    if specification == None:\n",
    "        print(\"Model Name:- \", product_name,\"\\nSpecification:- \", specification, \"\\nPrice:- ₹\", product_price.text.strip(), \"\\n\")\n",
    "\n",
    "    # If Specification of Product is not \"None\" then Print it's Specification using group()\n",
    "    else:\n",
    "        print(\"Model Name:- \", product_name,\"\\nSpecification:- \", specification.group(), \"\\nPrice:- ₹\", product_price.text.strip(), \"\\n\")\n",
    "\n",
    "    '''\n",
    "\n",
    "    # Print all the Records in Tabular Format\n",
    "\n",
    "    # If Specification of Product is \"None\" the Print \"None\" in Specification Tab\n",
    "    if specification == None:\n",
    "        data_table.add_row([product_name, specification, product_price.text.strip()])\n",
    "    # If Specification of Product is not \"None\" then Print it's Specification using group()\n",
    "    else:\n",
    "        # Add Particular Data to the Table \n",
    "        data_table.add_row([product_name, specification.group(), product_price.text.strip()])\n",
    "\n",
    "# Print Table\n",
    "print(data_table)"
   ]
  }
 ]
}